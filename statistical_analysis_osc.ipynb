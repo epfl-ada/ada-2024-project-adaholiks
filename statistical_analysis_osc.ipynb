{
 "cells": [
  {
   "attachments": {},
   "cell_type": "markdown",
   "metadata": {},
   "source": [
    "## Statistical analysis of the player paths data\n",
    "\n",
    "**for the end of the week this should just be part of a big notebook that combines converstion of data into pandas dataframes preprossecing of these dataframes and statistical analysis. At the end of the notebook we should have the data we work with for all the follwing stuff**"
   ]
  },
  {
   "cell_type": "code",
   "metadata": {
    "ExecuteTime": {
     "end_time": "2024-11-14T15:30:31.388026Z",
     "start_time": "2024-11-14T15:30:31.382788Z"
    }
   },
   "source": [
    "import pandas as pd\n",
    "import pyarrow.feather as feather\n",
    "import matplotlib.pyplot as plt\n",
    "import numpy as np"
   ],
   "outputs": [],
   "execution_count": 6
  },
  {
   "cell_type": "code",
   "metadata": {
    "ExecuteTime": {
     "end_time": "2024-11-14T15:43:14.585487Z",
     "start_time": "2024-11-14T15:43:10.623066Z"
    }
   },
   "source": [
    "#reload stored dataframes\n",
    "article_df = feather.read_feather('Data/dataframes/article_dataframe.feather')\n",
    "paths_df = feather.read_feather('Data/dataframes/paths.feather')"
   ],
   "outputs": [],
   "execution_count": 49
  },
  {
   "attachments": {},
   "cell_type": "markdown",
   "metadata": {},
   "source": [
    "**Before doing analysis we add some usefull columns to the data frame**\n",
    "- an identifier column for the same start and target pairs\n",
    "- a column where the full path is converted into a list\n",
    "- a column where only the direct path (no backward clicks) are considered and converted into a list\n",
    "- respectively a column for the length of the two lists (path legths) described just above"
   ]
  },
  {
   "cell_type": "code",
   "metadata": {
    "ExecuteTime": {
     "end_time": "2024-11-14T15:30:37.866965Z",
     "start_time": "2024-11-14T15:30:37.831975Z"
    }
   },
   "source": [
    "# to have unique indexes\n",
    "paths_df = paths_df.reset_index(drop=True)\n",
    "\n",
    "# add an identifier for the same start-target articles pairs\n",
    "paths_df['identifier'] = paths_df.groupby(['start_article', 'target_article']).ngroup()"
   ],
   "outputs": [],
   "execution_count": 8
  },
  {
   "cell_type": "code",
   "metadata": {
    "ExecuteTime": {
     "end_time": "2024-11-14T15:30:38.493759Z",
     "start_time": "2024-11-14T15:30:38.491049Z"
    }
   },
   "source": [
    "# should be moved to some other place later\n",
    "\n",
    "def process_path(path_string):\n",
    "    # Split the input string by the \";\" delimiter\n",
    "    links = path_string.split(\";\")\n",
    "    \n",
    "    # Initialize lists for full path and simplified path\n",
    "    full_path = []\n",
    "    simplified_path = []\n",
    "    \n",
    "    # Traverse through each link in the path\n",
    "    for link in links:\n",
    "        # Handle backward steps\n",
    "        if link == \"<\":\n",
    "            if simplified_path: # make sure list is not empty befor pop\n",
    "                simplified_path.pop()  # Go back by removing last entry\n",
    "        else:\n",
    "            full_path.append(link)\n",
    "            simplified_path.append(link)\n",
    "    \n",
    "    return full_path, simplified_path"
   ],
   "outputs": [],
   "execution_count": 9
  },
  {
   "cell_type": "code",
   "metadata": {
    "ExecuteTime": {
     "end_time": "2024-11-14T15:30:41.828354Z",
     "start_time": "2024-11-14T15:30:39.002935Z"
    }
   },
   "source": [
    "# add two new columns to the paths dataset with processed paths\n",
    "paths_df[['full_path', 'simplified_path']] = paths_df['path'].apply(lambda x: pd.Series(process_path(x)))\n",
    "\n",
    "# also add a column of for full and simplified path length\n",
    "paths_df['full_path_length'] = paths_df['full_path'].apply(lambda x: len(x)-1) # n-1 is the distance\n",
    "paths_df['simplified_path_length'] = paths_df['simplified_path'].apply(lambda x: len(x)-1)"
   ],
   "outputs": [],
   "execution_count": 10
  },
  {
   "cell_type": "code",
   "metadata": {
    "ExecuteTime": {
     "end_time": "2024-11-14T15:30:41.850242Z",
     "start_time": "2024-11-14T15:30:41.843076Z"
    }
   },
   "source": [
    "paths_df.head(1)"
   ],
   "outputs": [
    {
     "data": {
      "text/plain": [
       "    hashedIpAddress   timestamp  durationInSec  \\\n",
       "0  6a3701d319fc3754  1297740409            166   \n",
       "\n",
       "                                                path  rating  finished  \\\n",
       "0  14th_century;15th_century;16th_century;Pacific...     NaN      True   \n",
       "\n",
       "  failure_reason start_article       target_article  identifier  \\\n",
       "0           None  14th_century  African_slave_trade          48   \n",
       "\n",
       "                                           full_path  \\\n",
       "0  [14th_century, 15th_century, 16th_century, Pac...   \n",
       "\n",
       "                                     simplified_path  full_path_length  \\\n",
       "0  [14th_century, 15th_century, 16th_century, Pac...                 8   \n",
       "\n",
       "   simplified_path_length  \n",
       "0                       8  "
      ],
      "text/html": [
       "<div>\n",
       "<style scoped>\n",
       "    .dataframe tbody tr th:only-of-type {\n",
       "        vertical-align: middle;\n",
       "    }\n",
       "\n",
       "    .dataframe tbody tr th {\n",
       "        vertical-align: top;\n",
       "    }\n",
       "\n",
       "    .dataframe thead th {\n",
       "        text-align: right;\n",
       "    }\n",
       "</style>\n",
       "<table border=\"1\" class=\"dataframe\">\n",
       "  <thead>\n",
       "    <tr style=\"text-align: right;\">\n",
       "      <th></th>\n",
       "      <th>hashedIpAddress</th>\n",
       "      <th>timestamp</th>\n",
       "      <th>durationInSec</th>\n",
       "      <th>path</th>\n",
       "      <th>rating</th>\n",
       "      <th>finished</th>\n",
       "      <th>failure_reason</th>\n",
       "      <th>start_article</th>\n",
       "      <th>target_article</th>\n",
       "      <th>identifier</th>\n",
       "      <th>full_path</th>\n",
       "      <th>simplified_path</th>\n",
       "      <th>full_path_length</th>\n",
       "      <th>simplified_path_length</th>\n",
       "    </tr>\n",
       "  </thead>\n",
       "  <tbody>\n",
       "    <tr>\n",
       "      <th>0</th>\n",
       "      <td>6a3701d319fc3754</td>\n",
       "      <td>1297740409</td>\n",
       "      <td>166</td>\n",
       "      <td>14th_century;15th_century;16th_century;Pacific...</td>\n",
       "      <td>NaN</td>\n",
       "      <td>True</td>\n",
       "      <td>None</td>\n",
       "      <td>14th_century</td>\n",
       "      <td>African_slave_trade</td>\n",
       "      <td>48</td>\n",
       "      <td>[14th_century, 15th_century, 16th_century, Pac...</td>\n",
       "      <td>[14th_century, 15th_century, 16th_century, Pac...</td>\n",
       "      <td>8</td>\n",
       "      <td>8</td>\n",
       "    </tr>\n",
       "  </tbody>\n",
       "</table>\n",
       "</div>"
      ]
     },
     "execution_count": 11,
     "metadata": {},
     "output_type": "execute_result"
    }
   ],
   "execution_count": 11
  },
  {
   "cell_type": "code",
   "metadata": {
    "ExecuteTime": {
     "end_time": "2024-11-14T15:30:42.912275Z",
     "start_time": "2024-11-14T15:30:42.909003Z"
    }
   },
   "source": [
    "# check if it worked for a path with backward steps\n",
    "p = paths_df.loc[16]\n",
    "print(f\"Original String Path:\\n    {p['path']}\\n\")\n",
    "print(f\"Converted Full Path:\\n    {p['full_path']}\\n\")\n",
    "print(f\"Converted Simplified Path:\\n    {p['simplified_path']}\\n\")"
   ],
   "outputs": [
    {
     "name": "stdout",
     "output_type": "stream",
     "text": [
      "Original String Path:\n",
      "    14th_century;Europe;Republic_of_Ireland;<;<;Europe;<;Europe;Republic_of_Ireland;<;<;Time;Physics;Speed_of_light;Rainbow\n",
      "\n",
      "Converted Full Path:\n",
      "    ['14th_century', 'Europe', 'Republic_of_Ireland', 'Europe', 'Europe', 'Republic_of_Ireland', 'Time', 'Physics', 'Speed_of_light', 'Rainbow']\n",
      "\n",
      "Converted Simplified Path:\n",
      "    ['14th_century', 'Time', 'Physics', 'Speed_of_light', 'Rainbow']\n",
      "\n"
     ]
    }
   ],
   "execution_count": 12
  },
  {
   "cell_type": "code",
   "metadata": {
    "ExecuteTime": {
     "end_time": "2024-11-14T15:30:43.314735Z",
     "start_time": "2024-11-14T15:30:43.311908Z"
    }
   },
   "source": [
    "# a function that takes as input two articles and computes the distance between them using the distance col from article_df \n",
    "# Should be added into a utils file or smth\n",
    "\n",
    "def get_distance_between_articles(df, article1, article2):\n",
    "    \"\"\"\n",
    "    Compute the distance between two articles based on the distance data in the DataFrame.\n",
    "    \n",
    "    Parameters:\n",
    "        df (pd.DataFrame): DataFrame containing articles and their distance dictionaries.\n",
    "        article1 (str): The name of the first article.\n",
    "        article2 (str): The name of the second article.\n",
    "        \n",
    "    Returns:\n",
    "        int or None: The distance between article1 and article2. Returns None if not found.\n",
    "    \"\"\"\n",
    "    # Find the row where the article is article1\n",
    "    row_article1 = df[df['article'] == article1]\n",
    "    \n",
    "    if row_article1.empty:\n",
    "        print(f\"Article '{article1}' not found in the DataFrame.\")\n",
    "        return None\n",
    "    \n",
    "    # Extract the dictionary of distances for article1\n",
    "    distances_dict = row_article1['distances'].values[0]\n",
    "    \n",
    "    # Retrieve the distance to article2\n",
    "    distance = distances_dict.get(article2)\n",
    "\n",
    "    # this will return either an int or None\n",
    "    return distance"
   ],
   "outputs": [],
   "execution_count": 13
  },
  {
   "cell_type": "code",
   "metadata": {
    "ExecuteTime": {
     "end_time": "2024-11-14T15:31:00.242137Z",
     "start_time": "2024-11-14T15:30:43.919049Z"
    }
   },
   "source": [
    "# apply the function that computes distance between two articles to the path data frame\n",
    "paths_df['distance'] = paths_df.apply(lambda row: get_distance_between_articles(article_df, row['start_article'], row['target_article']), axis=1)\n"
   ],
   "outputs": [],
   "execution_count": 14
  },
  {
   "attachments": {},
   "cell_type": "markdown",
   "metadata": {},
   "source": [
    "### Outlier handling\n",
    "before jumping into distribution analysis let's first see if there are potential outliers that need to be taken care of, this is easier when considering finished and unfinished paths seperately"
   ]
  },
  {
   "cell_type": "code",
   "metadata": {
    "ExecuteTime": {
     "end_time": "2024-11-14T15:31:00.305226Z",
     "start_time": "2024-11-14T15:31:00.264614Z"
    }
   },
   "source": [
    "paths_df['full_path_length'].describe()\n",
    "\n",
    "finished_paths = paths_df[paths_df['finished']]\n",
    "unfinished_paths = paths_df[~paths_df['finished']]\n",
    "\n",
    "print(f\"Finished path length statistics:\\n    {finished_paths[['full_path_length', 'simplified_path_length']].describe()}\\n\")\n",
    "print(f\"Unfinished path length statistics:\\n    {unfinished_paths[['full_path_length', 'simplified_path_length']].describe()}\\n\")\n",
    "\n"
   ],
   "outputs": [
    {
     "name": "stdout",
     "output_type": "stream",
     "text": [
      "Finished path length statistics:\n",
      "           full_path_length  simplified_path_length\n",
      "count      51318.000000            51318.000000\n",
      "mean           5.356775                4.956117\n",
      "std            3.775778                3.288758\n",
      "min            0.000000                0.000000\n",
      "25%            3.000000                3.000000\n",
      "50%            5.000000                4.000000\n",
      "75%            6.000000                6.000000\n",
      "max          419.000000              404.000000\n",
      "\n",
      "Unfinished path length statistics:\n",
      "           full_path_length  simplified_path_length\n",
      "count      24875.000000            24875.000000\n",
      "mean           3.678915                3.160040\n",
      "std            4.595089                3.942539\n",
      "min            0.000000                0.000000\n",
      "25%            1.000000                1.000000\n",
      "50%            3.000000                2.000000\n",
      "75%            5.000000                4.000000\n",
      "max          191.000000              148.000000\n",
      "\n"
     ]
    }
   ],
   "execution_count": 15
  },
  {
   "cell_type": "code",
   "metadata": {
    "ExecuteTime": {
     "end_time": "2024-11-14T15:31:00.348739Z",
     "start_time": "2024-11-14T15:31:00.332421Z"
    }
   },
   "source": [
    "# there are some very long paths lets analyse them in more detail\n",
    "finished_paths.sort_values(by='full_path_length', ascending=False).head(6)"
   ],
   "outputs": [
    {
     "data": {
      "text/plain": [
       "        hashedIpAddress   timestamp  durationInSec  \\\n",
       "8046   7f6da01d55086766  1248928447           2205   \n",
       "19961  4f1b9ce764349901  1236685130           2292   \n",
       "6945   4e97d9af4476607f  1248925083           1141   \n",
       "27136  0d57c8c57d75e2f5  1290096241           1852   \n",
       "6659   7f6da01d55086766  1248923237            364   \n",
       "28393  7b740aba73fe91e2  1231967436            171   \n",
       "\n",
       "                                                    path  rating  finished  \\\n",
       "8046   United_States;Washington,_D.C.;Government;Corp...     5.0      True   \n",
       "19961  Napoleon_I_of_France;United_Kingdom;Great_Brit...     NaN      True   \n",
       "6945   Police_state;Police;United_States;Washington,_...     5.0      True   \n",
       "27136  Lake_Toba;Netherlands;Europe;Earth;United_Stat...     5.0      True   \n",
       "6659   North_America;Pacific_Ocean;Earth;Earth's_atmo...     5.0      True   \n",
       "28393  55_Cancri_c;Saturn;Zeus;Heracles;Rome;Christia...     1.0      True   \n",
       "\n",
       "      failure_reason         start_article       target_article  identifier  \\\n",
       "8046            None         United_States     English_language       39775   \n",
       "19961           None  Napoleon_I_of_France            Recycling       26826   \n",
       "6945            None          Police_state  African_slave_trade       30473   \n",
       "27136           None             Lake_Toba         Looney_Tunes       22232   \n",
       "6659            None         North_America               Canada       27769   \n",
       "28393           None           55_Cancri_c                Niger         456   \n",
       "\n",
       "                                               full_path  \\\n",
       "8046   [United_States, Washington,_D.C., Government, ...   \n",
       "19961  [Napoleon_I_of_France, United_Kingdom, Great_B...   \n",
       "6945   [Police_state, Police, United_States, Washingt...   \n",
       "27136  [Lake_Toba, Netherlands, Europe, Earth, United...   \n",
       "6659   [North_America, Pacific_Ocean, Earth, Earth's_...   \n",
       "28393  [55_Cancri_c, Saturn, Zeus, Heracles, Rome, Ch...   \n",
       "\n",
       "                                         simplified_path  full_path_length  \\\n",
       "8046   [United_States, Washington,_D.C., Government, ...               419   \n",
       "19961  [Napoleon_I_of_France, United_Kingdom, Great_B...               113   \n",
       "6945   [Police_state, Police, United_States, Washingt...               102   \n",
       "27136  [Lake_Toba, Netherlands, Europe, Earth, United...                90   \n",
       "6659   [North_America, Pacific_Ocean, Earth, Earth's_...                71   \n",
       "28393  [55_Cancri_c, Saturn, Zeus, Heracles, Rome, Ch...                64   \n",
       "\n",
       "       simplified_path_length  distance  \n",
       "8046                      404       2.0  \n",
       "19961                     108       3.0  \n",
       "6945                      101       3.0  \n",
       "27136                      82       4.0  \n",
       "6659                       71       1.0  \n",
       "28393                      62       4.0  "
      ],
      "text/html": [
       "<div>\n",
       "<style scoped>\n",
       "    .dataframe tbody tr th:only-of-type {\n",
       "        vertical-align: middle;\n",
       "    }\n",
       "\n",
       "    .dataframe tbody tr th {\n",
       "        vertical-align: top;\n",
       "    }\n",
       "\n",
       "    .dataframe thead th {\n",
       "        text-align: right;\n",
       "    }\n",
       "</style>\n",
       "<table border=\"1\" class=\"dataframe\">\n",
       "  <thead>\n",
       "    <tr style=\"text-align: right;\">\n",
       "      <th></th>\n",
       "      <th>hashedIpAddress</th>\n",
       "      <th>timestamp</th>\n",
       "      <th>durationInSec</th>\n",
       "      <th>path</th>\n",
       "      <th>rating</th>\n",
       "      <th>finished</th>\n",
       "      <th>failure_reason</th>\n",
       "      <th>start_article</th>\n",
       "      <th>target_article</th>\n",
       "      <th>identifier</th>\n",
       "      <th>full_path</th>\n",
       "      <th>simplified_path</th>\n",
       "      <th>full_path_length</th>\n",
       "      <th>simplified_path_length</th>\n",
       "      <th>distance</th>\n",
       "    </tr>\n",
       "  </thead>\n",
       "  <tbody>\n",
       "    <tr>\n",
       "      <th>8046</th>\n",
       "      <td>7f6da01d55086766</td>\n",
       "      <td>1248928447</td>\n",
       "      <td>2205</td>\n",
       "      <td>United_States;Washington,_D.C.;Government;Corp...</td>\n",
       "      <td>5.0</td>\n",
       "      <td>True</td>\n",
       "      <td>None</td>\n",
       "      <td>United_States</td>\n",
       "      <td>English_language</td>\n",
       "      <td>39775</td>\n",
       "      <td>[United_States, Washington,_D.C., Government, ...</td>\n",
       "      <td>[United_States, Washington,_D.C., Government, ...</td>\n",
       "      <td>419</td>\n",
       "      <td>404</td>\n",
       "      <td>2.0</td>\n",
       "    </tr>\n",
       "    <tr>\n",
       "      <th>19961</th>\n",
       "      <td>4f1b9ce764349901</td>\n",
       "      <td>1236685130</td>\n",
       "      <td>2292</td>\n",
       "      <td>Napoleon_I_of_France;United_Kingdom;Great_Brit...</td>\n",
       "      <td>NaN</td>\n",
       "      <td>True</td>\n",
       "      <td>None</td>\n",
       "      <td>Napoleon_I_of_France</td>\n",
       "      <td>Recycling</td>\n",
       "      <td>26826</td>\n",
       "      <td>[Napoleon_I_of_France, United_Kingdom, Great_B...</td>\n",
       "      <td>[Napoleon_I_of_France, United_Kingdom, Great_B...</td>\n",
       "      <td>113</td>\n",
       "      <td>108</td>\n",
       "      <td>3.0</td>\n",
       "    </tr>\n",
       "    <tr>\n",
       "      <th>6945</th>\n",
       "      <td>4e97d9af4476607f</td>\n",
       "      <td>1248925083</td>\n",
       "      <td>1141</td>\n",
       "      <td>Police_state;Police;United_States;Washington,_...</td>\n",
       "      <td>5.0</td>\n",
       "      <td>True</td>\n",
       "      <td>None</td>\n",
       "      <td>Police_state</td>\n",
       "      <td>African_slave_trade</td>\n",
       "      <td>30473</td>\n",
       "      <td>[Police_state, Police, United_States, Washingt...</td>\n",
       "      <td>[Police_state, Police, United_States, Washingt...</td>\n",
       "      <td>102</td>\n",
       "      <td>101</td>\n",
       "      <td>3.0</td>\n",
       "    </tr>\n",
       "    <tr>\n",
       "      <th>27136</th>\n",
       "      <td>0d57c8c57d75e2f5</td>\n",
       "      <td>1290096241</td>\n",
       "      <td>1852</td>\n",
       "      <td>Lake_Toba;Netherlands;Europe;Earth;United_Stat...</td>\n",
       "      <td>5.0</td>\n",
       "      <td>True</td>\n",
       "      <td>None</td>\n",
       "      <td>Lake_Toba</td>\n",
       "      <td>Looney_Tunes</td>\n",
       "      <td>22232</td>\n",
       "      <td>[Lake_Toba, Netherlands, Europe, Earth, United...</td>\n",
       "      <td>[Lake_Toba, Netherlands, Europe, Earth, United...</td>\n",
       "      <td>90</td>\n",
       "      <td>82</td>\n",
       "      <td>4.0</td>\n",
       "    </tr>\n",
       "    <tr>\n",
       "      <th>6659</th>\n",
       "      <td>7f6da01d55086766</td>\n",
       "      <td>1248923237</td>\n",
       "      <td>364</td>\n",
       "      <td>North_America;Pacific_Ocean;Earth;Earth's_atmo...</td>\n",
       "      <td>5.0</td>\n",
       "      <td>True</td>\n",
       "      <td>None</td>\n",
       "      <td>North_America</td>\n",
       "      <td>Canada</td>\n",
       "      <td>27769</td>\n",
       "      <td>[North_America, Pacific_Ocean, Earth, Earth's_...</td>\n",
       "      <td>[North_America, Pacific_Ocean, Earth, Earth's_...</td>\n",
       "      <td>71</td>\n",
       "      <td>71</td>\n",
       "      <td>1.0</td>\n",
       "    </tr>\n",
       "    <tr>\n",
       "      <th>28393</th>\n",
       "      <td>7b740aba73fe91e2</td>\n",
       "      <td>1231967436</td>\n",
       "      <td>171</td>\n",
       "      <td>55_Cancri_c;Saturn;Zeus;Heracles;Rome;Christia...</td>\n",
       "      <td>1.0</td>\n",
       "      <td>True</td>\n",
       "      <td>None</td>\n",
       "      <td>55_Cancri_c</td>\n",
       "      <td>Niger</td>\n",
       "      <td>456</td>\n",
       "      <td>[55_Cancri_c, Saturn, Zeus, Heracles, Rome, Ch...</td>\n",
       "      <td>[55_Cancri_c, Saturn, Zeus, Heracles, Rome, Ch...</td>\n",
       "      <td>64</td>\n",
       "      <td>62</td>\n",
       "      <td>4.0</td>\n",
       "    </tr>\n",
       "  </tbody>\n",
       "</table>\n",
       "</div>"
      ]
     },
     "execution_count": 16,
     "metadata": {},
     "output_type": "execute_result"
    }
   ],
   "execution_count": 16
  },
  {
   "cell_type": "code",
   "metadata": {
    "ExecuteTime": {
     "end_time": "2024-11-14T15:31:00.393385Z",
     "start_time": "2024-11-14T15:31:00.382593Z"
    }
   },
   "source": [
    "# Judjing from the actual distance between the articles the paths taken seem overly complicated and \n",
    "# where probably purposfully added\n",
    "# to confirm this lets look at the statistics of some of the paths with the same identifier:\n",
    "\n",
    "print(f\"Statistics of all paths that have the same start-target article pair as the longest path:\\n    {finished_paths[finished_paths['identifier'] == 39775][['full_path_length', 'simplified_path_length']].describe()}\\n\")\n",
    "\n",
    "print(f\"Statistics of all paths that have the same start-target article pair as the 2nd longest path:\\n    {finished_paths[finished_paths['identifier'] == 26826][['full_path_length', 'simplified_path_length']].describe()}\\n\")\n"
   ],
   "outputs": [
    {
     "name": "stdout",
     "output_type": "stream",
     "text": [
      "Statistics of all paths that have the same start-target article pair as the longest path:\n",
      "           full_path_length  simplified_path_length\n",
      "count         15.000000               15.000000\n",
      "mean          29.933333               28.933333\n",
      "std          107.632620              103.759658\n",
      "min            2.000000                2.000000\n",
      "25%            2.000000                2.000000\n",
      "50%            2.000000                2.000000\n",
      "75%            2.000000                2.000000\n",
      "max          419.000000              404.000000\n",
      "\n",
      "Statistics of all paths that have the same start-target article pair as the 2nd longest path:\n",
      "           full_path_length  simplified_path_length\n",
      "count           4.00000                4.000000\n",
      "mean           35.50000               34.000000\n",
      "std            52.04165               49.672259\n",
      "min             3.00000                3.000000\n",
      "25%             6.75000                6.750000\n",
      "50%            13.00000               12.500000\n",
      "75%            41.75000               39.750000\n",
      "max           113.00000              108.000000\n",
      "\n"
     ]
    }
   ],
   "execution_count": 17
  },
  {
   "attachments": {},
   "cell_type": "markdown",
   "metadata": {},
   "source": [
    "From the above we estimate that a smart way to handle outliers is to use the interquantile range (IQR) method method removing paths which have a length of more than 75% quantile + 1.5 x IQR. There are two possible approaches either to define global outlier or to define outliers per start-target article pair group. The latter however only makes sense if there are enough samples present per group. \n",
    "\n",
    "Since there are certainly differences in path difficulty between the groups the second appraoch would be more taylored but it requires a certain number of samples per group to be somewhat accurate.  Thus we first have a look at the statistics of start-target article pair group size."
   ]
  },
  {
   "cell_type": "code",
   "metadata": {
    "ExecuteTime": {
     "end_time": "2024-11-14T15:31:00.518673Z",
     "start_time": "2024-11-14T15:31:00.507120Z"
    }
   },
   "source": [
    "# Get the counts of each identifier\n",
    "pair_identifier_counts = finished_paths.groupby('identifier').size()\n",
    "\n",
    "pair_identifier_counts.describe()"
   ],
   "outputs": [
    {
     "data": {
      "text/plain": [
       "count    28718.000000\n",
       "mean         1.786963\n",
       "std         11.128460\n",
       "min          1.000000\n",
       "25%          1.000000\n",
       "50%          1.000000\n",
       "75%          2.000000\n",
       "max       1043.000000\n",
       "dtype: float64"
      ]
     },
     "execution_count": 18,
     "metadata": {},
     "output_type": "execute_result"
    }
   ],
   "execution_count": 18
  },
  {
   "attachments": {},
   "cell_type": "markdown",
   "metadata": {},
   "source": [
    "Since overall there clearly is a very low amount of sample (close to 1) per start-target pair group, we have to use the global approach (for now). \n",
    "However, this can still be adapted to path difficulty to some extend, at least for the finished paths. In fact, we can do so by consider not directly the path length but the distance between path length and optimal length (shortest possible distance from start to finish article) and apply the IQR method on it."
   ]
  },
  {
   "cell_type": "code",
   "metadata": {
    "ExecuteTime": {
     "end_time": "2024-11-14T15:31:00.617575Z",
     "start_time": "2024-11-14T15:31:00.591253Z"
    }
   },
   "source": [
    "finished_paths = finished_paths.copy()\n",
    "\n",
    "# Calculate the difference between full_path_length and distance \n",
    "# NOTE: here I use full path not direct path, which is less conservative (can be changed depending on subsequent analysis)\n",
    "finished_paths['length_minus_distance'] = finished_paths['full_path_length'] - finished_paths['distance']\n",
    "\n",
    "# Calculate Q1 and Q3 based on the new difference col\n",
    "Q1 = finished_paths['length_minus_distance'].quantile(0.25)\n",
    "Q3 = finished_paths['length_minus_distance'].quantile(0.75)\n",
    "IQR = Q3 - Q1\n",
    "\n",
    "# Calculate the upper bound\n",
    "upper_bound = round(Q3 + 1.5 * IQR)\n",
    "\n",
    "# Filter the DataFrame based on the upper bound\n",
    "filtered_finished_paths = finished_paths[finished_paths['length_minus_distance'] <= upper_bound]\n",
    "\n",
    "# Calculate the number of removed rows\n",
    "removed = finished_paths.shape[0] - filtered_finished_paths.shape[0]\n",
    "\n",
    "# Print the result\n",
    "print(f\"A total of {removed} paths were removed, \"\n",
    "      f\"which represents {removed / finished_paths.shape[0] * 100:.3f}% of the original data.\")\n",
    "\n",
    "# Describe the 'full_path_length' and 'simplified_path_length' columns in the filtered DataFrame\n",
    "filtered_finished_paths[['full_path_length', 'simplified_path_length']].describe()\n"
   ],
   "outputs": [
    {
     "name": "stdout",
     "output_type": "stream",
     "text": [
      "A total of 3624 paths were removed, which represents 7.062% of the original data.\n"
     ]
    },
    {
     "data": {
      "text/plain": [
       "       full_path_length  simplified_path_length\n",
       "count      47694.000000            47694.000000\n",
       "mean           4.717365                4.496289\n",
       "std            1.845749                1.702182\n",
       "min            0.000000                0.000000\n",
       "25%            3.000000                3.000000\n",
       "50%            4.000000                4.000000\n",
       "75%            6.000000                5.000000\n",
       "max           11.000000               11.000000"
      ],
      "text/html": [
       "<div>\n",
       "<style scoped>\n",
       "    .dataframe tbody tr th:only-of-type {\n",
       "        vertical-align: middle;\n",
       "    }\n",
       "\n",
       "    .dataframe tbody tr th {\n",
       "        vertical-align: top;\n",
       "    }\n",
       "\n",
       "    .dataframe thead th {\n",
       "        text-align: right;\n",
       "    }\n",
       "</style>\n",
       "<table border=\"1\" class=\"dataframe\">\n",
       "  <thead>\n",
       "    <tr style=\"text-align: right;\">\n",
       "      <th></th>\n",
       "      <th>full_path_length</th>\n",
       "      <th>simplified_path_length</th>\n",
       "    </tr>\n",
       "  </thead>\n",
       "  <tbody>\n",
       "    <tr>\n",
       "      <th>count</th>\n",
       "      <td>47694.000000</td>\n",
       "      <td>47694.000000</td>\n",
       "    </tr>\n",
       "    <tr>\n",
       "      <th>mean</th>\n",
       "      <td>4.717365</td>\n",
       "      <td>4.496289</td>\n",
       "    </tr>\n",
       "    <tr>\n",
       "      <th>std</th>\n",
       "      <td>1.845749</td>\n",
       "      <td>1.702182</td>\n",
       "    </tr>\n",
       "    <tr>\n",
       "      <th>min</th>\n",
       "      <td>0.000000</td>\n",
       "      <td>0.000000</td>\n",
       "    </tr>\n",
       "    <tr>\n",
       "      <th>25%</th>\n",
       "      <td>3.000000</td>\n",
       "      <td>3.000000</td>\n",
       "    </tr>\n",
       "    <tr>\n",
       "      <th>50%</th>\n",
       "      <td>4.000000</td>\n",
       "      <td>4.000000</td>\n",
       "    </tr>\n",
       "    <tr>\n",
       "      <th>75%</th>\n",
       "      <td>6.000000</td>\n",
       "      <td>5.000000</td>\n",
       "    </tr>\n",
       "    <tr>\n",
       "      <th>max</th>\n",
       "      <td>11.000000</td>\n",
       "      <td>11.000000</td>\n",
       "    </tr>\n",
       "  </tbody>\n",
       "</table>\n",
       "</div>"
      ]
     },
     "execution_count": 19,
     "metadata": {},
     "output_type": "execute_result"
    }
   ],
   "execution_count": 19
  },
  {
   "attachments": {},
   "cell_type": "markdown",
   "metadata": {},
   "source": [
    "For the unfinished paths, it is not possible to simply take the difference in the same way. Here we take the full path length IQR approach for the upper bound. We set the lower bound row wise in a way to fitler out all paths that are shorter than the shortest possible path, as we estimate that there was enough effort but into those attemps from the player."
   ]
  },
  {
   "cell_type": "code",
   "metadata": {
    "ExecuteTime": {
     "end_time": "2024-11-14T15:31:00.704263Z",
     "start_time": "2024-11-14T15:31:00.696128Z"
    }
   },
   "source": [
    "# do something similar for the unfinished paths but here we also put a lower bound\n",
    "Q1 = unfinished_paths['full_path_length'].quantile(0.25)\n",
    "Q3 = unfinished_paths['full_path_length'].quantile(0.75)\n",
    "IQR = Q3 - Q1\n",
    "\n",
    "# Upper bound based on IQR approach\n",
    "upper_bound = round(Q3 + 1.5 * IQR)\n",
    "\n",
    "# Filter the unfinished_paths based on the row's distance as the lower bound and IQR as the upper bound\n",
    "filtered_unfinished_paths = unfinished_paths[\n",
    "    (unfinished_paths['full_path_length'] <= upper_bound) &\n",
    "    (unfinished_paths['simplified_path_length'] >= unfinished_paths['distance'])\n",
    "]\n",
    "\n",
    "removed = unfinished_paths.shape[0] - filtered_unfinished_paths.shape[0]\n",
    "\n",
    "print(f\"A total of {removed} paths were removed, \"\n",
    "      f\"which represents {removed / unfinished_paths.shape[0] * 100:.3f}% of the original data.\")\n",
    "\n",
    "filtered_unfinished_paths[['full_path_length', 'simplified_path_length']].describe()"
   ],
   "outputs": [
    {
     "name": "stdout",
     "output_type": "stream",
     "text": [
      "A total of 14674 paths were removed, which represents 58.991% of the original data.\n"
     ]
    },
    {
     "data": {
      "text/plain": [
       "       full_path_length  simplified_path_length\n",
       "count      10201.000000            10201.000000\n",
       "mean           5.382021                4.952064\n",
       "std            2.261404                2.026771\n",
       "min            1.000000                1.000000\n",
       "25%            4.000000                3.000000\n",
       "50%            5.000000                4.000000\n",
       "75%            7.000000                6.000000\n",
       "max           11.000000               11.000000"
      ],
      "text/html": [
       "<div>\n",
       "<style scoped>\n",
       "    .dataframe tbody tr th:only-of-type {\n",
       "        vertical-align: middle;\n",
       "    }\n",
       "\n",
       "    .dataframe tbody tr th {\n",
       "        vertical-align: top;\n",
       "    }\n",
       "\n",
       "    .dataframe thead th {\n",
       "        text-align: right;\n",
       "    }\n",
       "</style>\n",
       "<table border=\"1\" class=\"dataframe\">\n",
       "  <thead>\n",
       "    <tr style=\"text-align: right;\">\n",
       "      <th></th>\n",
       "      <th>full_path_length</th>\n",
       "      <th>simplified_path_length</th>\n",
       "    </tr>\n",
       "  </thead>\n",
       "  <tbody>\n",
       "    <tr>\n",
       "      <th>count</th>\n",
       "      <td>10201.000000</td>\n",
       "      <td>10201.000000</td>\n",
       "    </tr>\n",
       "    <tr>\n",
       "      <th>mean</th>\n",
       "      <td>5.382021</td>\n",
       "      <td>4.952064</td>\n",
       "    </tr>\n",
       "    <tr>\n",
       "      <th>std</th>\n",
       "      <td>2.261404</td>\n",
       "      <td>2.026771</td>\n",
       "    </tr>\n",
       "    <tr>\n",
       "      <th>min</th>\n",
       "      <td>1.000000</td>\n",
       "      <td>1.000000</td>\n",
       "    </tr>\n",
       "    <tr>\n",
       "      <th>25%</th>\n",
       "      <td>4.000000</td>\n",
       "      <td>3.000000</td>\n",
       "    </tr>\n",
       "    <tr>\n",
       "      <th>50%</th>\n",
       "      <td>5.000000</td>\n",
       "      <td>4.000000</td>\n",
       "    </tr>\n",
       "    <tr>\n",
       "      <th>75%</th>\n",
       "      <td>7.000000</td>\n",
       "      <td>6.000000</td>\n",
       "    </tr>\n",
       "    <tr>\n",
       "      <th>max</th>\n",
       "      <td>11.000000</td>\n",
       "      <td>11.000000</td>\n",
       "    </tr>\n",
       "  </tbody>\n",
       "</table>\n",
       "</div>"
      ]
     },
     "execution_count": 20,
     "metadata": {},
     "output_type": "execute_result"
    }
   ],
   "execution_count": 20
  },
  {
   "attachments": {},
   "cell_type": "markdown",
   "metadata": {},
   "source": [
    "### Analysis of the path length distributions\n",
    "\n",
    "We will do so starting with the finished paths. where the goal is to get a histogram of the path lengths and compute some relevant statistics.\n",
    "It is interesting to look at the total number of links that where used, as well as the actual distance of the path that was taken in the end (so without considering back clicks)"
   ]
  },
  {
   "cell_type": "code",
   "metadata": {
    "ExecuteTime": {
     "end_time": "2024-11-14T15:31:01.116160Z",
     "start_time": "2024-11-14T15:31:00.842820Z"
    }
   },
   "source": [
    "# Count occurrences of each path length\n",
    "len_full_counts = filtered_finished_paths['full_path_length'].value_counts().sort_index()\n",
    "len_simplified_counts = filtered_finished_paths['simplified_path_length'].value_counts().sort_index()\n",
    "\n",
    "# Create a figure with 2 subplots (side by side)\n",
    "fig, axes = plt.subplots(1, 2, figsize=(14, 6))\n",
    "\n",
    "# Plot the bar plot for full path lengths on the first subplot\n",
    "len_full_counts.plot(kind='bar', color='#3498db', edgecolor='black', alpha=0.75, ax=axes[0])\n",
    "axes[0].set_title(\"Bar Plot of Finished Full Paths\", fontsize=16, fontweight='bold', color='#2C3E50', pad=20)\n",
    "axes[0].set_xlabel(\"Number of Visited Articles (number of clicks)\", fontsize=14, color='#34495E', labelpad=15)\n",
    "axes[0].set_ylabel(\"Frequency\", fontsize=14, color='#34495E', labelpad=15)\n",
    "axes[0].grid(True, linestyle='--', linewidth=0.5, alpha=0.7, color='#BDC3C7')  # Subtle gridlines\n",
    "\n",
    "# Plot the bar plot for simplified path lengths on the second subplot\n",
    "len_simplified_counts.plot(kind='bar', color='#e74c3c', edgecolor='black', alpha=0.75, ax=axes[1])\n",
    "axes[1].set_title(\"Bar Plot of Finished Simplified Paths\", fontsize=16, fontweight='bold', color='#2C3E50', pad=20)\n",
    "axes[1].set_xlabel(\"Direct Path Length (no back clicks)\", fontsize=14, color='#34495E', labelpad=15)\n",
    "axes[1].set_ylabel(\"Frequency\", fontsize=14, color='#34495E', labelpad=15)\n",
    "axes[1].grid(True, linestyle='--', linewidth=0.5, alpha=0.7, color='#BDC3C7')  # Subtle gridlines\n",
    "\n",
    "# Adjust layout to prevent overlap\n",
    "plt.tight_layout()\n",
    "\n",
    "# Show the plot\n",
    "plt.show()\n",
    "\n"
   ],
   "outputs": [
    {
     "data": {
      "text/plain": [
       "<Figure size 1400x600 with 2 Axes>"
      ],
      "image/png": "[encoded data removed]"
     },
     "metadata": {},
     "output_type": "display_data"
    }
   ],
   "execution_count": 21
  },
  {
   "attachments": {},
   "cell_type": "markdown",
   "metadata": {},
   "source": [
    "This looks pretty good! The cutoff seems reasonable. However, there are certain samples with '0' path length inbetween them. they need to be taken care of."
   ]
  },
  {
   "cell_type": "code",
   "metadata": {
    "ExecuteTime": {
     "end_time": "2024-11-14T15:31:01.140979Z",
     "start_time": "2024-11-14T15:31:01.134288Z"
    }
   },
   "source": [
    "# we notice that there are some samples with distance 0 (start and target article are the same).\n",
    "# these also need to be filtered out\n",
    "\n",
    "filtered_finished_paths = filtered_finished_paths[~(filtered_finished_paths['distance']== 0)]"
   ],
   "outputs": [],
   "execution_count": 22
  },
  {
   "attachments": {},
   "cell_type": "markdown",
   "metadata": {},
   "source": [
    "We now display the distribution of the unfinished articles."
   ]
  },
  {
   "cell_type": "code",
   "metadata": {
    "ExecuteTime": {
     "end_time": "2024-11-14T15:31:01.364484Z",
     "start_time": "2024-11-14T15:31:01.187178Z"
    }
   },
   "source": [
    "# Count occurrences of each path length\n",
    "len_full_counts = filtered_unfinished_paths['full_path_length'].value_counts().sort_index()\n",
    "len_simplified_counts = filtered_unfinished_paths['simplified_path_length'].value_counts().sort_index()\n",
    "\n",
    "# Create a figure with 2 subplots (side by side)\n",
    "fig, axes = plt.subplots(1, 2, figsize=(14, 6))\n",
    "\n",
    "# Plot the bar plot for full path lengths on the first subplot\n",
    "len_full_counts.plot(kind='bar', color='#3498db', edgecolor='black', alpha=0.75, ax=axes[0])\n",
    "axes[0].set_title(\"Plot of Unfinished Full Paths\", fontsize=16, fontweight='bold', color='#2C3E50', pad=20)\n",
    "axes[0].set_xlabel(\"Number of Visited Articles (number of clicks)\", fontsize=14, color='#34495E', labelpad=15)\n",
    "axes[0].set_ylabel(\"Frequency\", fontsize=14, color='#34495E', labelpad=15)\n",
    "axes[0].grid(True, linestyle='--', linewidth=0.5, alpha=0.7, color='#BDC3C7')  # Subtle gridlines\n",
    "axes[0].tick_params(axis='x', rotation=90)  # Rotate x-ticks vertically\n",
    "\n",
    "# Plot the bar plot for simplified path lengths on the second subplot\n",
    "len_simplified_counts.plot(kind='bar', color='#e74c3c', edgecolor='black', alpha=0.75, ax=axes[1])\n",
    "axes[1].set_title(\"Plot of Unfinished Simplified Paths\", fontsize=16, fontweight='bold', color='#2C3E50', pad=20)\n",
    "axes[1].set_xlabel(\"Direct Path Length (no back clicks)\", fontsize=14, color='#34495E', labelpad=15)\n",
    "axes[1].set_ylabel(\"Frequency\", fontsize=14, color='#34495E', labelpad=15)\n",
    "axes[1].grid(True, linestyle='--', linewidth=0.5, alpha=0.7, color='#BDC3C7')  # Subtle gridlines\n",
    "axes[1].tick_params(axis='x', rotation=90)  # Rotate x-ticks vertically\n",
    "\n",
    "# Adjust layout to prevent overlap\n",
    "plt.tight_layout()\n",
    "\n",
    "# Show the plot\n",
    "plt.show()"
   ],
   "outputs": [
    {
     "data": {
      "text/plain": [
       "<Figure size 1400x600 with 2 Axes>"
      ],
      "image/png": "[encoded data removed]"
     },
     "metadata": {},
     "output_type": "display_data"
    }
   ],
   "execution_count": 23
  },
  {
   "attachments": {},
   "cell_type": "markdown",
   "metadata": {},
   "source": [
    " Again the cut-off seems reasonable, maybe a bit low on the upper bound, but we will keep it like this for now."
   ]
  },
  {
   "cell_type": "code",
   "metadata": {
    "ExecuteTime": {
     "end_time": "2024-11-14T15:31:01.394340Z",
     "start_time": "2024-11-14T15:31:01.382058Z"
    }
   },
   "source": [
    "# finally we merge the finished and unfinished data frames\n",
    "filtered_paths = pd.concat([filtered_finished_paths, filtered_unfinished_paths]).drop('length_minus_distance', axis=1)\n"
   ],
   "outputs": [],
   "execution_count": 24
  },
  {
   "attachments": {},
   "cell_type": "markdown",
   "metadata": {},
   "source": [
    "For comparison let's also have a look at the distribution of the shortest possible distance distribution and its statistic. "
   ]
  },
  {
   "cell_type": "code",
   "metadata": {
    "ExecuteTime": {
     "end_time": "2024-11-14T15:31:01.509946Z",
     "start_time": "2024-11-14T15:31:01.417660Z"
    }
   },
   "source": [
    "# Count occurrences of each distance\n",
    "distance_counts = filtered_paths['distance'].value_counts().sort_index()\n",
    "\n",
    "fig, ax = plt.subplots(figsize=(8, 6))\n",
    "\n",
    "# Bar plot with the same design as above\n",
    "distance_counts.plot(kind='bar', color='#3498db', edgecolor='black', alpha=0.75, ax=ax)\n",
    "ax.set_title(\"Plot of Finished Full Paths\", fontsize=16, fontweight='bold', color='#2C3E50', pad=20)\n",
    "ax.set_xlabel(\"Number of Visited Articles\", fontsize=14, color='#34495E', labelpad=15)\n",
    "ax.set_ylabel(\"Frequency\", fontsize=14, color='#34495E', labelpad=15)\n",
    "ax.grid(True, linestyle='--', linewidth=0.5, alpha=0.7, color='#BDC3C7')  # Subtle gridlines\n",
    "ax.tick_params(axis='x', rotation=90)  # Rotate x-ticks vertically\n",
    "\n",
    "plt.show()"
   ],
   "outputs": [
    {
     "data": {
      "text/plain": [
       "<Figure size 800x600 with 1 Axes>"
      ],
      "image/png": "[encoded data removed]"
     },
     "metadata": {},
     "output_type": "display_data"
    }
   ],
   "execution_count": 25
  },
  {
   "cell_type": "code",
   "metadata": {
    "ExecuteTime": {
     "end_time": "2024-11-14T15:31:01.546856Z",
     "start_time": "2024-11-14T15:31:01.542235Z"
    }
   },
   "source": [
    "nan_count = filtered_paths['distance'].isna().sum()\n",
    "print(f\"There are {nan_count} NaN values in the 'distance' column.\")\n",
    "\n",
    "# look at some statistics\n",
    "\n",
    "print(\"\\nStatistics of 'distance' column:\")\n",
    "filtered_paths['distance'].describe()"
   ],
   "outputs": [
    {
     "name": "stdout",
     "output_type": "stream",
     "text": [
      "There are 0 NaN values in the 'distance' column.\n",
      "\n",
      "Statistics of 'distance' column:\n"
     ]
    },
    {
     "data": {
      "text/plain": [
       "count    57884.000000\n",
       "mean         2.884683\n",
       "std          0.710127\n",
       "min          1.000000\n",
       "25%          2.000000\n",
       "50%          3.000000\n",
       "75%          3.000000\n",
       "max          7.000000\n",
       "Name: distance, dtype: float64"
      ]
     },
     "execution_count": 26,
     "metadata": {},
     "output_type": "execute_result"
    }
   ],
   "execution_count": 26
  },
  {
   "attachments": {},
   "cell_type": "markdown",
   "metadata": {},
   "source": [
    "**Interesting observatin**\n",
    "\n",
    "We just obversed that pretty much any article is reachable within at most 6 clicks (3 exeption with distance 7). This is interesting when we thik of the six degrees of separation idea..."
   ]
  },
  {
   "attachments": {},
   "cell_type": "markdown",
   "metadata": {},
   "source": [
    "## Start-Target article analysis"
   ]
  },
  {
   "attachments": {},
   "cell_type": "markdown",
   "metadata": {},
   "source": [
    "Now using the filtered path data we are interested in the distribution of the number of times the same start-target article pairs appear. Ideally this would be somewhat uniform."
   ]
  },
  {
   "cell_type": "code",
   "metadata": {
    "ExecuteTime": {
     "end_time": "2024-11-14T15:31:01.615545Z",
     "start_time": "2024-11-14T15:31:01.591971Z"
    }
   },
   "source": [
    "start_target_groups = filtered_paths.groupby(['start_article', 'target_article'])\n",
    "start_articles_groups = filtered_paths.groupby(['start_article'])\n",
    "target_articles_groups = filtered_paths.groupby(['target_article'])\n",
    "\n",
    "\n",
    "print(f\"Start-Target pair group size statistics:\\n    {start_target_groups.size().describe()}\\n\")\n",
    "print(f\"Sart article's group size statistics:\\n    {start_articles_groups.size().describe()}\\n\")\n",
    "print(f\"Target article's group size statistics:\\n    {target_articles_groups.size().describe()}\\n\")\n",
    "\n"
   ],
   "outputs": [
    {
     "name": "stdout",
     "output_type": "stream",
     "text": [
      "Start-Target pair group size statistics:\n",
      "    count    33674.000000\n",
      "mean         1.718952\n",
      "std         13.500968\n",
      "min          1.000000\n",
      "25%          1.000000\n",
      "50%          1.000000\n",
      "75%          2.000000\n",
      "max       1308.000000\n",
      "dtype: float64\n",
      "\n",
      "Sart article's group size statistics:\n",
      "    count    4157.000000\n",
      "mean       13.924465\n",
      "std        41.641078\n",
      "min         1.000000\n",
      "25%         7.000000\n",
      "50%        10.000000\n",
      "75%        16.000000\n",
      "max      1357.000000\n",
      "dtype: float64\n",
      "\n",
      "Target article's group size statistics:\n",
      "    count    3761.000000\n",
      "mean       15.390588\n",
      "std        45.002551\n",
      "min         1.000000\n",
      "25%         6.000000\n",
      "50%        10.000000\n",
      "75%        17.000000\n",
      "max      1417.000000\n",
      "dtype: float64\n",
      "\n"
     ]
    }
   ],
   "execution_count": 27
  },
  {
   "attachments": {},
   "cell_type": "markdown",
   "metadata": {},
   "source": [
    "Clearly the distribution is not unfirom at all. Most games from a certain start article to target article were only attempted once but we also see that some are played over 1000 times! We can now try to find the most played paths and maybe already find out why they are played much more often."
   ]
  },
  {
   "cell_type": "code",
   "metadata": {
    "ExecuteTime": {
     "end_time": "2024-11-14T15:31:01.700257Z",
     "start_time": "2024-11-14T15:31:01.678378Z"
    }
   },
   "source": [
    "# Group by 'start_article' and 'target_article' and aggregate\n",
    "grouped = start_target_groups.agg(\n",
    "    group_size=('target_article', 'size'),                      # Size of each group\n",
    "    mean_full_path_length=('full_path_length', 'mean'),         # Mean of 'full_path_length'\n",
    "    mean_simplified_path_length=('simplified_path_length', 'mean'),  # Mean of 'simplified_path_length'\n",
    "    mean_rating=('rating', 'mean'),                             # Mean of 'rating' ignoring NaNs\n",
    "    fraction_finished=('finished', 'mean')                    # fraction of 'finished' (mean of True/False)\n",
    ").reset_index()\n",
    "\n",
    "# Sort by group size in descending order and take the top 10 largest groups\n",
    "top_groups = grouped.sort_values('group_size', ascending=False).head(10)\n",
    "\n",
    "print(\"Top 10 largest groups by start_article and target_article pairs with some intesting metrics:\\n\", top_groups)"
   ],
   "outputs": [
    {
     "name": "stdout",
     "output_type": "stream",
     "text": [
      "Top 10 largest groups by start_article and target_article pairs with some intesting metrics:\n",
      "       start_article     target_article  group_size  mean_full_path_length  \\\n",
      "5169          Brain          Telephone        1308               5.075688   \n",
      "2731       Asteroid             Viking        1284               5.497664   \n",
      "30100       Theatre              Zebra        1201               5.517902   \n",
      "24832       Pyramid               Bean        1075               5.362791   \n",
      "3749         Batman               Wood         164               5.146341   \n",
      "4475           Bird  Great_white_shark         142               4.260563   \n",
      "3744         Batman      The_Holocaust         124               4.354839   \n",
      "4092           Beer                Sun         121               4.008264   \n",
      "4470           Bird       Adolf_Hitler         113               4.185841   \n",
      "3712         Batman             Banana          80               5.687500   \n",
      "\n",
      "       mean_simplified_path_length  mean_rating  fraction_finished  \n",
      "5169                      4.838685     2.383099           0.733180  \n",
      "2731                      5.261682     2.478378           0.741433  \n",
      "30100                     5.232306     2.485623           0.667777  \n",
      "24832                     5.038140     2.535885           0.520000  \n",
      "3749                      4.853659     2.666667           0.817073  \n",
      "4475                      4.190141     1.736842           0.950704  \n",
      "3744                      4.201613     2.028571           0.959677  \n",
      "4092                      3.793388     2.120000           0.809917  \n",
      "4470                      4.123894     2.181818           0.938053  \n",
      "3712                      5.487500     3.150000           0.800000  \n"
     ]
    }
   ],
   "execution_count": 28
  },
  {
   "attachments": {},
   "cell_type": "markdown",
   "metadata": {},
   "source": [
    "**Comment:** It appears that there is no abvious trend here. The most played start-target pairs are not the easiest which could have been the case due to players skipping the harder paths. This overrepresentation of some games is something we definetly need to take into consideration for further analysis!"
   ]
  },
  {
   "attachments": {},
   "cell_type": "markdown",
   "metadata": {},
   "source": [
    "**END OF PREPROCESSING & exploratory data analysis**\n",
    "need to store filtered dataframe "
   ]
  },
  {
   "attachments": {},
   "cell_type": "markdown",
   "metadata": {},
   "source": [
    "## game based top articles. (This should go somewhere else than in this file)\n",
    "\n",
    "We will try to quantify what articles are the most important in user navigation using various approaches from simple to more complex\n",
    "### Naive approach\n",
    "\n",
    "First we just look at articles than come up the most in the filtered data. This is of course a very naive approach and will just serve as comparison for the subsequent ones."
   ]
  },
  {
   "cell_type": "code",
   "metadata": {
    "ExecuteTime": {
     "end_time": "2024-11-14T15:31:39.207489Z",
     "start_time": "2024-11-14T15:31:36.909664Z"
    }
   },
   "source": [
    "# 1. naive approach described above.\n",
    "# will use the simplied paths (direct paths) as contrary to full path more apperances necessary imply importance\n",
    "\n",
    "simplified_paths = filtered_paths['simplified_path'].copy()\n",
    "\n",
    "simplified_paths.apply(lambda l: l[1:-1]) # drop start and target article\n",
    "\n",
    "article_count = pd.Series(dtype=int)\n",
    "\n",
    "# Loop through each path and count each article\n",
    "for path in simplified_paths:\n",
    "    for article in path:\n",
    "        article_count[article] = article_count.get(article, 0) + 1\n",
    "\n",
    "# order \n",
    "article_count = article_count.sort_values(ascending=False)\n",
    "\n",
    "article_count.head(10)"
   ],
   "outputs": [
    {
     "data": {
      "text/plain": [
       "United_States     9745\n",
       "Europe            4581\n",
       "United_Kingdom    4148\n",
       "England           3495\n",
       "Earth             3418\n",
       "Africa            2976\n",
       "World_War_II      2382\n",
       "North_America     1960\n",
       "Germany           1793\n",
       "Human             1727\n",
       "dtype: int64"
      ]
     },
     "execution_count": 29,
     "metadata": {},
     "output_type": "execute_result"
    }
   ],
   "execution_count": 29
  },
  {
   "attachments": {},
   "cell_type": "markdown",
   "metadata": {},
   "source": [
    "### Weighted Average of All Articles\n",
    "\n",
    "This allows for averaging without being overly influenced by differences between the start and target pairs. We will define weight as: \n",
    "$$\n",
    "\\text{Weight} = 1 - \\frac{\\text{Actual Path Length} - \\text{Optimal Distance}}{\\text{Actual Path Length}} = \\frac{\\text{Optimal Path Length}}{\\text{Actual Path Length}}\n",
    "$$\n",
    "This weight captures how much the actual path deviates from the optimal distance as a ratio of the actual path length.\n",
    "\n",
    "The weighted average will allow us to evaluate the average quality of an article's appearances.\n",
    "\n",
    "Note: I don't consider the start and target articles, in the paths, maybe keep targets ?"
   ]
  },
  {
   "cell_type": "code",
   "metadata": {
    "ExecuteTime": {
     "end_time": "2024-11-14T15:31:39.395541Z",
     "start_time": "2024-11-14T15:31:39.367855Z"
    }
   },
   "source": [
    "# we can only use finished paths for this analysis.\n",
    "# use simplified path lengths for diff calculation\n",
    "\n",
    "# 1. make new df where a weight is assigned to each path (both described above), and a col for simplified and full path\n",
    "# 2. A function that takes this df and iterates through the simplified path column, where it checks what articles appear in it\n",
    "# and adds that weight that row to a total weight sum of an other data frame. This other data frame should consit of the following rows:\n",
    "# |article_name|n_counts|weighted_avg|normalized_path_score_avg|\n",
    "\n",
    "# 1.\n",
    "df = filtered_finished_paths[['simplified_path', 'simplified_path_length', 'distance']].copy()\n",
    "\n",
    "# again drop start and end articles\n",
    "df['simplified_path'] = df['simplified_path'].apply(lambda l: l[1:-1])\n",
    "\n",
    "# Calc weight and add to df\n",
    "df['weight'] = df['distance'] / df['simplified_path_length']\n",
    "\n",
    "df.head()\n"
   ],
   "outputs": [
    {
     "data": {
      "text/plain": [
       "                                     simplified_path  simplified_path_length  \\\n",
       "0  [15th_century, 16th_century, Pacific_Ocean, At...                       8   \n",
       "1             [Europe, Africa, Atlantic_slave_trade]                       4   \n",
       "2  [Niger, Nigeria, British_Empire, Slavery, Afri...                       7   \n",
       "3                      [Renaissance, Ancient_Greece]                       3   \n",
       "4  [Italy, Roman_Catholic_Church, HIV, Ronald_Rea...                       6   \n",
       "\n",
       "   distance    weight  \n",
       "0       3.0  0.375000  \n",
       "1       3.0  0.750000  \n",
       "2       3.0  0.428571  \n",
       "3       2.0  0.666667  \n",
       "4       3.0  0.500000  "
      ],
      "text/html": [
       "<div>\n",
       "<style scoped>\n",
       "    .dataframe tbody tr th:only-of-type {\n",
       "        vertical-align: middle;\n",
       "    }\n",
       "\n",
       "    .dataframe tbody tr th {\n",
       "        vertical-align: top;\n",
       "    }\n",
       "\n",
       "    .dataframe thead th {\n",
       "        text-align: right;\n",
       "    }\n",
       "</style>\n",
       "<table border=\"1\" class=\"dataframe\">\n",
       "  <thead>\n",
       "    <tr style=\"text-align: right;\">\n",
       "      <th></th>\n",
       "      <th>simplified_path</th>\n",
       "      <th>simplified_path_length</th>\n",
       "      <th>distance</th>\n",
       "      <th>weight</th>\n",
       "    </tr>\n",
       "  </thead>\n",
       "  <tbody>\n",
       "    <tr>\n",
       "      <th>0</th>\n",
       "      <td>[15th_century, 16th_century, Pacific_Ocean, At...</td>\n",
       "      <td>8</td>\n",
       "      <td>3.0</td>\n",
       "      <td>0.375000</td>\n",
       "    </tr>\n",
       "    <tr>\n",
       "      <th>1</th>\n",
       "      <td>[Europe, Africa, Atlantic_slave_trade]</td>\n",
       "      <td>4</td>\n",
       "      <td>3.0</td>\n",
       "      <td>0.750000</td>\n",
       "    </tr>\n",
       "    <tr>\n",
       "      <th>2</th>\n",
       "      <td>[Niger, Nigeria, British_Empire, Slavery, Afri...</td>\n",
       "      <td>7</td>\n",
       "      <td>3.0</td>\n",
       "      <td>0.428571</td>\n",
       "    </tr>\n",
       "    <tr>\n",
       "      <th>3</th>\n",
       "      <td>[Renaissance, Ancient_Greece]</td>\n",
       "      <td>3</td>\n",
       "      <td>2.0</td>\n",
       "      <td>0.666667</td>\n",
       "    </tr>\n",
       "    <tr>\n",
       "      <th>4</th>\n",
       "      <td>[Italy, Roman_Catholic_Church, HIV, Ronald_Rea...</td>\n",
       "      <td>6</td>\n",
       "      <td>3.0</td>\n",
       "      <td>0.500000</td>\n",
       "    </tr>\n",
       "  </tbody>\n",
       "</table>\n",
       "</div>"
      ]
     },
     "execution_count": 30,
     "metadata": {},
     "output_type": "execute_result"
    }
   ],
   "execution_count": 30
  },
  {
   "cell_type": "code",
   "metadata": {
    "ExecuteTime": {
     "end_time": "2024-11-14T15:31:43.233369Z",
     "start_time": "2024-11-14T15:31:39.469108Z"
    }
   },
   "source": [
    "# 2. Create an empty DataFrame for aggregating article results \n",
    "avg_article_weight_df = pd.DataFrame(columns=['article', 'n_appearances', 'weighted_avg'])\n",
    "avg_article_weight_df.set_index('article', inplace=True)\n",
    "\n",
    "for index, row in df.iterrows():\n",
    "    weight = row['weight']\n",
    "    simplified_path = row['simplified_path']\n",
    "\n",
    "    if len(simplified_path) > 2:\n",
    "        # Iterate through articles in the simplified path\n",
    "        for article in simplified_path[1:-1]: # don't consider start and target articles\n",
    "            if article not in avg_article_weight_df.index:\n",
    "                # If the article is not in the DataFrame, initialize a new row\n",
    "                avg_article_weight_df.loc[article] = [0, 0]\n",
    "\n",
    "            # Update counts and weighted sums\n",
    "            avg_article_weight_df.at[article, 'n_appearances'] += 1\n",
    "            avg_article_weight_df.at[article, 'weighted_avg'] += weight\n",
    "\n",
    "# Calculate the weighted average by dividing by the counts\n",
    "avg_article_weight_df['weighted_avg'] = avg_article_weight_df['weighted_avg'] / avg_article_weight_df['n_appearances']"
   ],
   "outputs": [
    {
     "name": "stderr",
     "output_type": "stream",
     "text": [
      "/var/folders/80/hqwr4qh5045_gwp_l1039pdw0000gn/T/ipykernel_46882/1704071625.py:18: FutureWarning: Setting an item of incompatible dtype is deprecated and will raise an error in a future version of pandas. Value '0.375' has dtype incompatible with int64, please explicitly cast to a compatible dtype first.\n",
      "  avg_article_weight_df.at[article, 'weighted_avg'] += weight\n"
     ]
    }
   ],
   "execution_count": 31
  },
  {
   "cell_type": "code",
   "metadata": {
    "ExecuteTime": {
     "end_time": "2024-11-14T15:31:43.259171Z",
     "start_time": "2024-11-14T15:31:43.252381Z"
    }
   },
   "source": [
    "avg_article_weight_df = avg_article_weight_df.sort_values(by='weighted_avg', ascending=False)\n",
    "avg_article_weight_df"
   ],
   "outputs": [
    {
     "data": {
      "text/plain": [
       "                                                   n_appearances  weighted_avg\n",
       "article                                                                       \n",
       "Zheng_He                                                       1          1.00\n",
       "International_Red_Cross_and_Red_Crescent_Movement              1          1.00\n",
       "Badminton                                                      1          1.00\n",
       "H5N1                                                           1          1.00\n",
       "Antimony                                                       1          1.00\n",
       "...                                                          ...           ...\n",
       "Gallium                                                        1          0.25\n",
       "Akkadian_Empire                                                1          0.25\n",
       "Wild_cat                                                       1          0.25\n",
       "Gordon_Brown                                                   1          0.25\n",
       "Hammurabi                                                      1          0.25\n",
       "\n",
       "[2625 rows x 2 columns]"
      ],
      "text/html": [
       "<div>\n",
       "<style scoped>\n",
       "    .dataframe tbody tr th:only-of-type {\n",
       "        vertical-align: middle;\n",
       "    }\n",
       "\n",
       "    .dataframe tbody tr th {\n",
       "        vertical-align: top;\n",
       "    }\n",
       "\n",
       "    .dataframe thead th {\n",
       "        text-align: right;\n",
       "    }\n",
       "</style>\n",
       "<table border=\"1\" class=\"dataframe\">\n",
       "  <thead>\n",
       "    <tr style=\"text-align: right;\">\n",
       "      <th></th>\n",
       "      <th>n_appearances</th>\n",
       "      <th>weighted_avg</th>\n",
       "    </tr>\n",
       "    <tr>\n",
       "      <th>article</th>\n",
       "      <th></th>\n",
       "      <th></th>\n",
       "    </tr>\n",
       "  </thead>\n",
       "  <tbody>\n",
       "    <tr>\n",
       "      <th>Zheng_He</th>\n",
       "      <td>1</td>\n",
       "      <td>1.00</td>\n",
       "    </tr>\n",
       "    <tr>\n",
       "      <th>International_Red_Cross_and_Red_Crescent_Movement</th>\n",
       "      <td>1</td>\n",
       "      <td>1.00</td>\n",
       "    </tr>\n",
       "    <tr>\n",
       "      <th>Badminton</th>\n",
       "      <td>1</td>\n",
       "      <td>1.00</td>\n",
       "    </tr>\n",
       "    <tr>\n",
       "      <th>H5N1</th>\n",
       "      <td>1</td>\n",
       "      <td>1.00</td>\n",
       "    </tr>\n",
       "    <tr>\n",
       "      <th>Antimony</th>\n",
       "      <td>1</td>\n",
       "      <td>1.00</td>\n",
       "    </tr>\n",
       "    <tr>\n",
       "      <th>...</th>\n",
       "      <td>...</td>\n",
       "      <td>...</td>\n",
       "    </tr>\n",
       "    <tr>\n",
       "      <th>Gallium</th>\n",
       "      <td>1</td>\n",
       "      <td>0.25</td>\n",
       "    </tr>\n",
       "    <tr>\n",
       "      <th>Akkadian_Empire</th>\n",
       "      <td>1</td>\n",
       "      <td>0.25</td>\n",
       "    </tr>\n",
       "    <tr>\n",
       "      <th>Wild_cat</th>\n",
       "      <td>1</td>\n",
       "      <td>0.25</td>\n",
       "    </tr>\n",
       "    <tr>\n",
       "      <th>Gordon_Brown</th>\n",
       "      <td>1</td>\n",
       "      <td>0.25</td>\n",
       "    </tr>\n",
       "    <tr>\n",
       "      <th>Hammurabi</th>\n",
       "      <td>1</td>\n",
       "      <td>0.25</td>\n",
       "    </tr>\n",
       "  </tbody>\n",
       "</table>\n",
       "<p>2625 rows × 2 columns</p>\n",
       "</div>"
      ]
     },
     "execution_count": 32,
     "metadata": {},
     "output_type": "execute_result"
    }
   ],
   "execution_count": 32
  },
  {
   "attachments": {},
   "cell_type": "markdown",
   "metadata": {},
   "source": [
    "Articles that only show up once in the whole paths considered are not assigned a meaningfull weight value. We need to filter again. Whe can for example only consider articles that at least appear 30 times. This would still leave us with a fairly large data set that we can use for further analysis."
   ]
  },
  {
   "cell_type": "code",
   "metadata": {
    "ExecuteTime": {
     "end_time": "2024-11-14T15:31:43.323504Z",
     "start_time": "2024-11-14T15:31:43.319365Z"
    }
   },
   "source": [
    "filtered_weighted_avg_df = avg_article_weight_df[avg_article_weight_df['n_appearances'] >= 30]\n",
    "filtered_weighted_avg_df"
   ],
   "outputs": [
    {
     "data": {
      "text/plain": [
       "                   n_appearances  weighted_avg\n",
       "article                                       \n",
       "Extrasolar_planet             48      0.727364\n",
       "Black_Sea                     53      0.666584\n",
       "Whale_shark                  272      0.651068\n",
       "Information                  321      0.649007\n",
       "International_law             31      0.643510\n",
       "...                          ...           ...\n",
       "Bible                         46      0.449474\n",
       "Radio                         85      0.449402\n",
       "Athens                        66      0.448088\n",
       "Gardening                     38      0.446805\n",
       "Irrigation                    54      0.430467\n",
       "\n",
       "[483 rows x 2 columns]"
      ],
      "text/html": [
       "<div>\n",
       "<style scoped>\n",
       "    .dataframe tbody tr th:only-of-type {\n",
       "        vertical-align: middle;\n",
       "    }\n",
       "\n",
       "    .dataframe tbody tr th {\n",
       "        vertical-align: top;\n",
       "    }\n",
       "\n",
       "    .dataframe thead th {\n",
       "        text-align: right;\n",
       "    }\n",
       "</style>\n",
       "<table border=\"1\" class=\"dataframe\">\n",
       "  <thead>\n",
       "    <tr style=\"text-align: right;\">\n",
       "      <th></th>\n",
       "      <th>n_appearances</th>\n",
       "      <th>weighted_avg</th>\n",
       "    </tr>\n",
       "    <tr>\n",
       "      <th>article</th>\n",
       "      <th></th>\n",
       "      <th></th>\n",
       "    </tr>\n",
       "  </thead>\n",
       "  <tbody>\n",
       "    <tr>\n",
       "      <th>Extrasolar_planet</th>\n",
       "      <td>48</td>\n",
       "      <td>0.727364</td>\n",
       "    </tr>\n",
       "    <tr>\n",
       "      <th>Black_Sea</th>\n",
       "      <td>53</td>\n",
       "      <td>0.666584</td>\n",
       "    </tr>\n",
       "    <tr>\n",
       "      <th>Whale_shark</th>\n",
       "      <td>272</td>\n",
       "      <td>0.651068</td>\n",
       "    </tr>\n",
       "    <tr>\n",
       "      <th>Information</th>\n",
       "      <td>321</td>\n",
       "      <td>0.649007</td>\n",
       "    </tr>\n",
       "    <tr>\n",
       "      <th>International_law</th>\n",
       "      <td>31</td>\n",
       "      <td>0.643510</td>\n",
       "    </tr>\n",
       "    <tr>\n",
       "      <th>...</th>\n",
       "      <td>...</td>\n",
       "      <td>...</td>\n",
       "    </tr>\n",
       "    <tr>\n",
       "      <th>Bible</th>\n",
       "      <td>46</td>\n",
       "      <td>0.449474</td>\n",
       "    </tr>\n",
       "    <tr>\n",
       "      <th>Radio</th>\n",
       "      <td>85</td>\n",
       "      <td>0.449402</td>\n",
       "    </tr>\n",
       "    <tr>\n",
       "      <th>Athens</th>\n",
       "      <td>66</td>\n",
       "      <td>0.448088</td>\n",
       "    </tr>\n",
       "    <tr>\n",
       "      <th>Gardening</th>\n",
       "      <td>38</td>\n",
       "      <td>0.446805</td>\n",
       "    </tr>\n",
       "    <tr>\n",
       "      <th>Irrigation</th>\n",
       "      <td>54</td>\n",
       "      <td>0.430467</td>\n",
       "    </tr>\n",
       "  </tbody>\n",
       "</table>\n",
       "<p>483 rows × 2 columns</p>\n",
       "</div>"
      ]
     },
     "execution_count": 33,
     "metadata": {},
     "output_type": "execute_result"
    }
   ],
   "execution_count": 33
  },
  {
   "attachments": {},
   "cell_type": "markdown",
   "metadata": {},
   "source": [
    "### Weighted Sum of sampled articles\n",
    "\n",
    "In this case, instead of taking the average of the weight per article we sum the wieghts over all articles. This metric will of course be larger for articles that appear more often. Thus, it will be less informative about article quality, but likely more meaningfull in showing what articles are the most usefull for players overall. \n",
    "To adjust for the imbalance in start-target pairs, we need to downsample the data to only 1 sample per pair. As we saw that over 50% of the data only has one such sample already, this should not result in a to large chunck of removed samples."
   ]
  },
  {
   "cell_type": "code",
   "metadata": {
    "ExecuteTime": {
     "end_time": "2024-11-14T15:31:44.896958Z",
     "start_time": "2024-11-14T15:31:44.864929Z"
    }
   },
   "source": [
    "# first downsample the df so that there only is one sample per start-target pair.\n",
    "\n",
    "# Set the random seed for reproducibility\n",
    "np.random.seed(42)\n",
    "\n",
    "shuffled_df = filtered_finished_paths.sample(frac=1).reset_index(drop=True)\n",
    "filtered_paths_sampled = shuffled_df.drop_duplicates(subset='identifier', keep='first').reset_index(drop=True)\n",
    "\n",
    "# Calculate the number of removed rows\n",
    "removed = filtered_finished_paths.shape[0] - filtered_paths_sampled.shape[0]\n",
    "\n",
    "# Print the result\n",
    "print(f\"In sampling a total of {removed} samples were removed, \"\n",
    "      f\"which represents {removed / filtered_finished_paths.shape[0] * 100:.3f}% of the original data.\",\n",
    "      f\"{filtered_paths_sampled.shape[0]} samples remain.\")"
   ],
   "outputs": [
    {
     "name": "stdout",
     "output_type": "stream",
     "text": [
      "In sampling a total of 20010 samples were removed, which represents 41.965% of the original data. 27673 samples remain.\n"
     ]
    }
   ],
   "execution_count": 34
  },
  {
   "cell_type": "code",
   "metadata": {
    "ExecuteTime": {
     "end_time": "2024-11-14T15:31:49.835863Z",
     "start_time": "2024-11-14T15:31:45.998445Z"
    }
   },
   "source": [
    "# very similar code as for weighted average overall\n",
    "df2 = filtered_paths_sampled[['simplified_path', 'simplified_path_length', 'distance']].copy()\n",
    "\n",
    "# Calc weight and add to df\n",
    "df2['weight'] = df2['distance'] / df2['simplified_path_length']\n",
    "\n",
    "article_weightes_sum_df = pd.DataFrame(columns=['article', 'n_appearances', 'weighted_sum'])\n",
    "article_weightes_sum_df.set_index('article', inplace=True)\n",
    "\n",
    "for index, row in df2.iterrows():\n",
    "    weight = row['weight']\n",
    "    simplified_path = row['simplified_path']\n",
    "\n",
    "    if len(simplified_path) > 2:\n",
    "        # Iterate through articles in the simplified path\n",
    "        for article in simplified_path[1:-1]: # don't consider start and target articles\n",
    "            if article not in article_weightes_sum_df.index:\n",
    "                # If the article is not in the DataFrame, initialize a new row\n",
    "                article_weightes_sum_df.loc[article] = [0, 0]\n",
    "\n",
    "            # Update counts and weighted sums\n",
    "            article_weightes_sum_df.at[article, 'n_appearances'] += 1\n",
    "            article_weightes_sum_df.at[article, 'weighted_sum'] += weight"
   ],
   "outputs": [
    {
     "name": "stderr",
     "output_type": "stream",
     "text": [
      "/var/folders/80/hqwr4qh5045_gwp_l1039pdw0000gn/T/ipykernel_46882/1887511229.py:23: FutureWarning: Setting an item of incompatible dtype is deprecated and will raise an error in a future version of pandas. Value '0.75' has dtype incompatible with int64, please explicitly cast to a compatible dtype first.\n",
      "  article_weightes_sum_df.at[article, 'weighted_sum'] += weight\n"
     ]
    }
   ],
   "execution_count": 35
  },
  {
   "cell_type": "code",
   "metadata": {
    "ExecuteTime": {
     "end_time": "2024-11-14T15:31:52.557055Z",
     "start_time": "2024-11-14T15:31:52.551567Z"
    }
   },
   "source": [
    "article_weightes_sum_df = article_weightes_sum_df.sort_values(by='weighted_sum', ascending=False)\n",
    "\n",
    "article_weightes_sum_df.head(10)"
   ],
   "outputs": [
    {
     "data": {
      "text/plain": [
       "                n_appearances  weighted_sum\n",
       "article                                    \n",
       "United_States            4534   3205.278499\n",
       "Europe                   2168   1423.762302\n",
       "United_Kingdom           2113   1401.557143\n",
       "England                  1660   1083.717027\n",
       "Africa                   1364    930.151768\n",
       "Earth                    1187    763.651587\n",
       "World_War_II             1104    757.799206\n",
       "France                    837    557.654762\n",
       "Germany                   811    556.206349\n",
       "North_America             851    536.596212"
      ],
      "text/html": [
       "<div>\n",
       "<style scoped>\n",
       "    .dataframe tbody tr th:only-of-type {\n",
       "        vertical-align: middle;\n",
       "    }\n",
       "\n",
       "    .dataframe tbody tr th {\n",
       "        vertical-align: top;\n",
       "    }\n",
       "\n",
       "    .dataframe thead th {\n",
       "        text-align: right;\n",
       "    }\n",
       "</style>\n",
       "<table border=\"1\" class=\"dataframe\">\n",
       "  <thead>\n",
       "    <tr style=\"text-align: right;\">\n",
       "      <th></th>\n",
       "      <th>n_appearances</th>\n",
       "      <th>weighted_sum</th>\n",
       "    </tr>\n",
       "    <tr>\n",
       "      <th>article</th>\n",
       "      <th></th>\n",
       "      <th></th>\n",
       "    </tr>\n",
       "  </thead>\n",
       "  <tbody>\n",
       "    <tr>\n",
       "      <th>United_States</th>\n",
       "      <td>4534</td>\n",
       "      <td>3205.278499</td>\n",
       "    </tr>\n",
       "    <tr>\n",
       "      <th>Europe</th>\n",
       "      <td>2168</td>\n",
       "      <td>1423.762302</td>\n",
       "    </tr>\n",
       "    <tr>\n",
       "      <th>United_Kingdom</th>\n",
       "      <td>2113</td>\n",
       "      <td>1401.557143</td>\n",
       "    </tr>\n",
       "    <tr>\n",
       "      <th>England</th>\n",
       "      <td>1660</td>\n",
       "      <td>1083.717027</td>\n",
       "    </tr>\n",
       "    <tr>\n",
       "      <th>Africa</th>\n",
       "      <td>1364</td>\n",
       "      <td>930.151768</td>\n",
       "    </tr>\n",
       "    <tr>\n",
       "      <th>Earth</th>\n",
       "      <td>1187</td>\n",
       "      <td>763.651587</td>\n",
       "    </tr>\n",
       "    <tr>\n",
       "      <th>World_War_II</th>\n",
       "      <td>1104</td>\n",
       "      <td>757.799206</td>\n",
       "    </tr>\n",
       "    <tr>\n",
       "      <th>France</th>\n",
       "      <td>837</td>\n",
       "      <td>557.654762</td>\n",
       "    </tr>\n",
       "    <tr>\n",
       "      <th>Germany</th>\n",
       "      <td>811</td>\n",
       "      <td>556.206349</td>\n",
       "    </tr>\n",
       "    <tr>\n",
       "      <th>North_America</th>\n",
       "      <td>851</td>\n",
       "      <td>536.596212</td>\n",
       "    </tr>\n",
       "  </tbody>\n",
       "</table>\n",
       "</div>"
      ]
     },
     "execution_count": 36,
     "metadata": {},
     "output_type": "execute_result"
    }
   ],
   "execution_count": 36
  },
  {
   "attachments": {},
   "cell_type": "markdown",
   "metadata": {},
   "source": [
    "**Comment** \n",
    "\n",
    "This is not really a surprise, the articles that show up the most often also have the highest weighted_sum. Does that necessarily make them the best articles for efficient users to navigation? This is hard to tell as they are obviously different from highest 'quality' articles we extracted above.\n",
    "\n",
    "\n",
    "Alternatively, we can center the weights around 0 before computing the weighted sum to reduce the bias introduced by the number of appearances of articles. This way, articles with more appearances won't necessarily lead to a disproportionately large weighted sum score. This can help highlight articles that are truly impactful relative to the average. \n",
    "To do so we use the follwoing formulas:\n",
    "\n",
    "$$\n",
    "\\text{article\\_mean\\_weight} = \\frac{\\sum (\\text{weight} \\times \\text{simplified\\_path\\_length})}{\\sum (\\text{simplified\\_path\\_length})}\n",
    "$$\n",
    "\n",
    "$$\n",
    "\\text{centered\\_weight} = \\text{weight} - \\text{article\\_mean\\_weight}\n",
    "$$\n",
    "\n",
    "$$\n",
    "\\text{article\\_weighted\\_sum} = \\sum \\left( \\text{centered\\_weight} \\times \\text{n\\_appearances} \\right)\n",
    "$$"
   ]
  },
  {
   "cell_type": "code",
   "metadata": {
    "ExecuteTime": {
     "end_time": "2024-11-14T15:31:57.469587Z",
     "start_time": "2024-11-14T15:31:53.543651Z"
    }
   },
   "source": [
    "# Calculate mean weight\n",
    "article_mean_weight = (df2['weight'] * df2['simplified_path_length']).sum() / df2['simplified_path_length'].sum()\n",
    "\n",
    "# Center the weights by subtracting the mean\n",
    "df2['centered_weight'] = df2['weight'] - article_mean_weight\n",
    "\n",
    "article_weightes_sum_df2 = pd.DataFrame(columns=['article_name', 'n_appearances', 'weighted_sum'])\n",
    "article_weightes_sum_df2.set_index('article_name', inplace=True)\n",
    "\n",
    "for index, row in df2.iterrows():\n",
    "    centered_weight = row['centered_weight']\n",
    "    simplified_path = row['simplified_path']\n",
    "\n",
    "    if len(simplified_path) > 2:\n",
    "        for article in simplified_path[1:-1]: # don't consider start and target articles\n",
    "            if article not in article_weightes_sum_df2.index:\n",
    "                article_weightes_sum_df2.loc[article] = [0, 0]  # Initialize count and sum\n",
    "\n",
    "            # Update counts and centered weighted sum\n",
    "            article_weightes_sum_df2.at[article, 'n_appearances'] += 1\n",
    "            article_weightes_sum_df2.at[article, 'weighted_sum'] += centered_weight\n"
   ],
   "outputs": [
    {
     "name": "stderr",
     "output_type": "stream",
     "text": [
      "/var/folders/80/hqwr4qh5045_gwp_l1039pdw0000gn/T/ipykernel_46882/1393077498.py:21: FutureWarning: Setting an item of incompatible dtype is deprecated and will raise an error in a future version of pandas. Value '0.09830571274589062' has dtype incompatible with int64, please explicitly cast to a compatible dtype first.\n",
      "  article_weightes_sum_df2.at[article, 'weighted_sum'] += centered_weight\n"
     ]
    }
   ],
   "execution_count": 37
  },
  {
   "cell_type": "code",
   "metadata": {
    "ExecuteTime": {
     "end_time": "2024-11-14T15:31:57.489750Z",
     "start_time": "2024-11-14T15:31:57.483148Z"
    }
   },
   "source": [
    "article_weightes_sum_df2 = article_weightes_sum_df2.sort_values(by='weighted_sum', ascending=False)\n",
    "\n",
    "article_weightes_sum_df2\n"
   ],
   "outputs": [
    {
     "data": {
      "text/plain": [
       "                  n_appearances  weighted_sum\n",
       "article_name                                 \n",
       "United_States              4534    250.496601\n",
       "Africa                     1364     41.240760\n",
       "World_War_II               1104     38.328713\n",
       "Japan                       484     28.509294\n",
       "Germany                     811     27.682282\n",
       "...                         ...           ...\n",
       "Great_Britain               297    -23.702013\n",
       "European_Union              431    -24.659206\n",
       "Continent                   305    -28.221520\n",
       "Chemical_element            378    -28.816631\n",
       "Science                     608    -49.654946\n",
       "\n",
       "[2896 rows x 2 columns]"
      ],
      "text/html": [
       "<div>\n",
       "<style scoped>\n",
       "    .dataframe tbody tr th:only-of-type {\n",
       "        vertical-align: middle;\n",
       "    }\n",
       "\n",
       "    .dataframe tbody tr th {\n",
       "        vertical-align: top;\n",
       "    }\n",
       "\n",
       "    .dataframe thead th {\n",
       "        text-align: right;\n",
       "    }\n",
       "</style>\n",
       "<table border=\"1\" class=\"dataframe\">\n",
       "  <thead>\n",
       "    <tr style=\"text-align: right;\">\n",
       "      <th></th>\n",
       "      <th>n_appearances</th>\n",
       "      <th>weighted_sum</th>\n",
       "    </tr>\n",
       "    <tr>\n",
       "      <th>article_name</th>\n",
       "      <th></th>\n",
       "      <th></th>\n",
       "    </tr>\n",
       "  </thead>\n",
       "  <tbody>\n",
       "    <tr>\n",
       "      <th>United_States</th>\n",
       "      <td>4534</td>\n",
       "      <td>250.496601</td>\n",
       "    </tr>\n",
       "    <tr>\n",
       "      <th>Africa</th>\n",
       "      <td>1364</td>\n",
       "      <td>41.240760</td>\n",
       "    </tr>\n",
       "    <tr>\n",
       "      <th>World_War_II</th>\n",
       "      <td>1104</td>\n",
       "      <td>38.328713</td>\n",
       "    </tr>\n",
       "    <tr>\n",
       "      <th>Japan</th>\n",
       "      <td>484</td>\n",
       "      <td>28.509294</td>\n",
       "    </tr>\n",
       "    <tr>\n",
       "      <th>Germany</th>\n",
       "      <td>811</td>\n",
       "      <td>27.682282</td>\n",
       "    </tr>\n",
       "    <tr>\n",
       "      <th>...</th>\n",
       "      <td>...</td>\n",
       "      <td>...</td>\n",
       "    </tr>\n",
       "    <tr>\n",
       "      <th>Great_Britain</th>\n",
       "      <td>297</td>\n",
       "      <td>-23.702013</td>\n",
       "    </tr>\n",
       "    <tr>\n",
       "      <th>European_Union</th>\n",
       "      <td>431</td>\n",
       "      <td>-24.659206</td>\n",
       "    </tr>\n",
       "    <tr>\n",
       "      <th>Continent</th>\n",
       "      <td>305</td>\n",
       "      <td>-28.221520</td>\n",
       "    </tr>\n",
       "    <tr>\n",
       "      <th>Chemical_element</th>\n",
       "      <td>378</td>\n",
       "      <td>-28.816631</td>\n",
       "    </tr>\n",
       "    <tr>\n",
       "      <th>Science</th>\n",
       "      <td>608</td>\n",
       "      <td>-49.654946</td>\n",
       "    </tr>\n",
       "  </tbody>\n",
       "</table>\n",
       "<p>2896 rows × 2 columns</p>\n",
       "</div>"
      ]
     },
     "execution_count": 38,
     "metadata": {},
     "output_type": "execute_result"
    }
   ],
   "execution_count": 38
  },
  {
   "attachments": {},
   "cell_type": "markdown",
   "metadata": {},
   "source": [
    "Things have definetly changed let's compare the top scoring articles of the centered weighted sum vs weighted sum and the average weighted average."
   ]
  },
  {
   "cell_type": "code",
   "metadata": {
    "ExecuteTime": {
     "end_time": "2024-11-14T15:31:57.534682Z",
     "start_time": "2024-11-14T15:31:57.529974Z"
    }
   },
   "source": [
    "# Again the articles that appear only few times should not be considered\n",
    "article_weightes_sum_df2 = article_weightes_sum_df2[article_weightes_sum_df2['n_appearances'] >= 30]\n",
    "article_weightes_sum_df2"
   ],
   "outputs": [
    {
     "data": {
      "text/plain": [
       "                  n_appearances  weighted_sum\n",
       "article_name                                 \n",
       "United_States              4534    250.496601\n",
       "Africa                     1364     41.240760\n",
       "World_War_II               1104     38.328713\n",
       "Japan                       484     28.509294\n",
       "Germany                     811     27.682282\n",
       "...                         ...           ...\n",
       "Great_Britain               297    -23.702013\n",
       "European_Union              431    -24.659206\n",
       "Continent                   305    -28.221520\n",
       "Chemical_element            378    -28.816631\n",
       "Science                     608    -49.654946\n",
       "\n",
       "[567 rows x 2 columns]"
      ],
      "text/html": [
       "<div>\n",
       "<style scoped>\n",
       "    .dataframe tbody tr th:only-of-type {\n",
       "        vertical-align: middle;\n",
       "    }\n",
       "\n",
       "    .dataframe tbody tr th {\n",
       "        vertical-align: top;\n",
       "    }\n",
       "\n",
       "    .dataframe thead th {\n",
       "        text-align: right;\n",
       "    }\n",
       "</style>\n",
       "<table border=\"1\" class=\"dataframe\">\n",
       "  <thead>\n",
       "    <tr style=\"text-align: right;\">\n",
       "      <th></th>\n",
       "      <th>n_appearances</th>\n",
       "      <th>weighted_sum</th>\n",
       "    </tr>\n",
       "    <tr>\n",
       "      <th>article_name</th>\n",
       "      <th></th>\n",
       "      <th></th>\n",
       "    </tr>\n",
       "  </thead>\n",
       "  <tbody>\n",
       "    <tr>\n",
       "      <th>United_States</th>\n",
       "      <td>4534</td>\n",
       "      <td>250.496601</td>\n",
       "    </tr>\n",
       "    <tr>\n",
       "      <th>Africa</th>\n",
       "      <td>1364</td>\n",
       "      <td>41.240760</td>\n",
       "    </tr>\n",
       "    <tr>\n",
       "      <th>World_War_II</th>\n",
       "      <td>1104</td>\n",
       "      <td>38.328713</td>\n",
       "    </tr>\n",
       "    <tr>\n",
       "      <th>Japan</th>\n",
       "      <td>484</td>\n",
       "      <td>28.509294</td>\n",
       "    </tr>\n",
       "    <tr>\n",
       "      <th>Germany</th>\n",
       "      <td>811</td>\n",
       "      <td>27.682282</td>\n",
       "    </tr>\n",
       "    <tr>\n",
       "      <th>...</th>\n",
       "      <td>...</td>\n",
       "      <td>...</td>\n",
       "    </tr>\n",
       "    <tr>\n",
       "      <th>Great_Britain</th>\n",
       "      <td>297</td>\n",
       "      <td>-23.702013</td>\n",
       "    </tr>\n",
       "    <tr>\n",
       "      <th>European_Union</th>\n",
       "      <td>431</td>\n",
       "      <td>-24.659206</td>\n",
       "    </tr>\n",
       "    <tr>\n",
       "      <th>Continent</th>\n",
       "      <td>305</td>\n",
       "      <td>-28.221520</td>\n",
       "    </tr>\n",
       "    <tr>\n",
       "      <th>Chemical_element</th>\n",
       "      <td>378</td>\n",
       "      <td>-28.816631</td>\n",
       "    </tr>\n",
       "    <tr>\n",
       "      <th>Science</th>\n",
       "      <td>608</td>\n",
       "      <td>-49.654946</td>\n",
       "    </tr>\n",
       "  </tbody>\n",
       "</table>\n",
       "<p>567 rows × 2 columns</p>\n",
       "</div>"
      ]
     },
     "execution_count": 39,
     "metadata": {},
     "output_type": "execute_result"
    }
   ],
   "execution_count": 39
  },
  {
   "attachments": {},
   "cell_type": "markdown",
   "metadata": {},
   "source": [
    "**Comment**\n",
    "\n",
    "It is obvious that in this apporach articles that appear much more often will also have the most extreme weight values. But this might be a decent compromise between article 'quality' and article 'usefulness' for players."
   ]
  },
  {
   "attachments": {},
   "cell_type": "markdown",
   "metadata": {},
   "source": [
    "**Comparison** of the methods"
   ]
  },
  {
   "cell_type": "code",
   "metadata": {
    "ExecuteTime": {
     "end_time": "2024-11-14T15:31:57.566088Z",
     "start_time": "2024-11-14T15:31:57.562704Z"
    }
   },
   "source": [
    "top_n = 10\n",
    "\n",
    "# Top articles\n",
    "print(f\"Top {top_n} articles for the Weighted Average Approach and their corresponding weights:\")\n",
    "print(filtered_weighted_avg_df.head(top_n))\n",
    "\n",
    "print(f\"\\nTop {top_n} articles for the Standard Weighted Sum Approach and their corresponding weights:\")\n",
    "print(article_weightes_sum_df.head(top_n))\n",
    "\n",
    "print(f\"\\nTop {top_n} articles for the Centered Weighted Sum Approach and their corresponding weights:\")\n",
    "print(article_weightes_sum_df2.head(top_n))"
   ],
   "outputs": [
    {
     "name": "stdout",
     "output_type": "stream",
     "text": [
      "Top 10 articles for the Weighted Average Approach and their corresponding weights:\n",
      "                             n_appearances  weighted_avg\n",
      "article                                                 \n",
      "Extrasolar_planet                       48      0.727364\n",
      "Black_Sea                               53      0.666584\n",
      "Whale_shark                            272      0.651068\n",
      "Information                            321      0.649007\n",
      "International_law                       31      0.643510\n",
      "Tennis                                  46      0.637535\n",
      "Aluminium                               39      0.622222\n",
      "Bird                                   310      0.618967\n",
      "Cinema_of_the_United_States            100      0.618742\n",
      "Tropical_cyclone                       135      0.611177\n",
      "\n",
      "Top 10 articles for the Standard Weighted Sum Approach and their corresponding weights:\n",
      "                n_appearances  weighted_sum\n",
      "article                                    \n",
      "United_States            4534   3205.278499\n",
      "Europe                   2168   1423.762302\n",
      "United_Kingdom           2113   1401.557143\n",
      "England                  1660   1083.717027\n",
      "Africa                   1364    930.151768\n",
      "Earth                    1187    763.651587\n",
      "World_War_II             1104    757.799206\n",
      "France                    837    557.654762\n",
      "Germany                   811    556.206349\n",
      "North_America             851    536.596212\n",
      "\n",
      "Top 10 articles for the Centered Weighted Sum Approach and their corresponding weights:\n",
      "                                n_appearances  weighted_sum\n",
      "article_name                                               \n",
      "United_States                            4534    250.496601\n",
      "Africa                                   1364     41.240760\n",
      "World_War_II                             1104     38.328713\n",
      "Japan                                     484     28.509294\n",
      "Germany                                   811     27.682282\n",
      "President_of_the_United_States            443     26.208161\n",
      "United_Kingdom                           2113     24.527114\n",
      "Canada                                    421     21.930753\n",
      "Australia                                 508     20.869425\n",
      "Russia                                    513     18.857021\n"
     ]
    }
   ],
   "execution_count": 40
  },
  {
   "cell_type": "code",
   "metadata": {
    "ExecuteTime": {
     "end_time": "2024-11-14T15:31:57.693409Z",
     "start_time": "2024-11-14T15:31:57.689509Z"
    }
   },
   "source": [
    "worst_n = 10\n",
    "\n",
    "# Worst articles\n",
    "print(f\"\\nWorst {worst_n} articles for the Weighted Average Approach and their corresponding weights:\")\n",
    "print(filtered_weighted_avg_df.tail(worst_n))\n",
    "\n",
    "print(f\"\\nWorst {worst_n} articles for the Standard Weighted Sum Approach and their corresponding weights:\")\n",
    "print(article_weightes_sum_df.tail(worst_n))\n",
    "\n",
    "print(f\"\\nWorst {worst_n} articles for the Centered Weighted Sum Approach and their corresponding weights:\")\n",
    "print(article_weightes_sum_df2.tail(worst_n))"
   ],
   "outputs": [
    {
     "name": "stdout",
     "output_type": "stream",
     "text": [
      "\n",
      "Worst 10 articles for the Weighted Average Approach and their corresponding weights:\n",
      "              n_appearances  weighted_avg\n",
      "article                                  \n",
      "Matter                   51      0.455096\n",
      "History                  46      0.452088\n",
      "Jesus                    45      0.451235\n",
      "East_Africa              53      0.450382\n",
      "Persian_Gulf             32      0.450149\n",
      "Bible                    46      0.449474\n",
      "Radio                    85      0.449402\n",
      "Athens                   66      0.448088\n",
      "Gardening                38      0.446805\n",
      "Irrigation               54      0.430467\n",
      "\n",
      "Worst 10 articles for the Standard Weighted Sum Approach and their corresponding weights:\n",
      "                   n_appearances  weighted_sum\n",
      "article                                       \n",
      "Magpie                         1      0.333333\n",
      "Guglielmo_Marconi              1      0.285714\n",
      "Hawk-Eye                       1      0.285714\n",
      "William_McKinley               1      0.285714\n",
      "Walter_Raleigh                 1      0.285714\n",
      "Transit_of_Venus               1      0.250000\n",
      "Akkadian_Empire                1      0.250000\n",
      "Henrik_Ibsen                   1      0.250000\n",
      "ZX_Spectrum                    1      0.250000\n",
      "Gallium                        1      0.250000\n",
      "\n",
      "Worst 10 articles for the Centered Weighted Sum Approach and their corresponding weights:\n",
      "                  n_appearances  weighted_sum\n",
      "article_name                                 \n",
      "Chemistry                   372    -17.768370\n",
      "North_America               851    -17.995626\n",
      "United_Nations              553    -18.890115\n",
      "Christianity                380    -20.868036\n",
      "Country                     169    -22.653795\n",
      "Great_Britain               297    -23.702013\n",
      "European_Union              431    -24.659206\n",
      "Continent                   305    -28.221520\n",
      "Chemical_element            378    -28.816631\n",
      "Science                     608    -49.654946\n"
     ]
    }
   ],
   "execution_count": 41
  },
  {
   "attachments": {},
   "cell_type": "markdown",
   "metadata": {},
   "source": [
    "### OTHER IDEA woking with the pairs where there is a ton of samples\n",
    "\n",
    "We can also make use of the finding that we have over 1000 samples for certain pairs as this will allow for much more precise article scoring metrics. Thus in a third apporach we use only the top occuring start-target pairs and compute and rank the articles that appear using again the same weighted path length - distance approach but also considering if the unfinished paths, penalizing articles that appear in them..."
   ]
  },
  {
   "cell_type": "code",
   "metadata": {
    "ExecuteTime": {
     "end_time": "2024-11-14T15:31:59.083492Z",
     "start_time": "2024-11-14T15:31:59.047611Z"
    }
   },
   "source": [
    "# only consider the top 4 as they all have size > 1000\n",
    "n = 4\n",
    "\n",
    "identifier_grouped = filtered_paths.groupby(['identifier'])\n",
    "\n",
    "# Sort by group size in descending order and take the top 10 largest groups\n",
    "top_identifiers = identifier_grouped.size().sort_values(ascending=False).head(n).index\n",
    "\n",
    "# extract all the paths from the filtered df with these identifiers\n",
    "top_pairs_df = filtered_paths[filtered_paths['identifier'].isin(top_identifiers)].copy()\n",
    "\n",
    "top_pairs_df.shape"
   ],
   "outputs": [
    {
     "data": {
      "text/plain": [
       "(4868, 15)"
      ]
     },
     "execution_count": 42,
     "metadata": {},
     "output_type": "execute_result"
    }
   ],
   "execution_count": 42
  },
  {
   "cell_type": "code",
   "metadata": {
    "ExecuteTime": {
     "end_time": "2024-11-14T15:32:01.189004Z",
     "start_time": "2024-11-14T15:32:01.186915Z"
    }
   },
   "source": [
    "# steps from here \n",
    "# - similar metrics as above to get weights\n",
    "# - can also consider additional metric => ratio nb of times apears article in unfinished over total nb of times article appears...\n",
    "#   (I could incorporate this metric in the above as well maybe)\n",
    "# - can do ML / regression to learn coeeficient of these two parameters...\n"
   ],
   "outputs": [],
   "execution_count": 43
  },
  {
   "metadata": {},
   "cell_type": "markdown",
   "source": "# Analysis of the article dataframe"
  },
  {
   "metadata": {},
   "cell_type": "markdown",
   "source": "## Most common categories of articles"
  },
  {
   "metadata": {
    "ExecuteTime": {
     "end_time": "2024-11-14T15:34:51.268696Z",
     "start_time": "2024-11-14T15:34:51.096624Z"
    }
   },
   "cell_type": "code",
   "source": [
    "import seaborn as sns\n",
    "\n",
    "# Explode the category column into individual rows\n",
    "categories_exploded = article_df.explode('category')\n",
    "\n",
    "# Extract the main category (e.g., subject.1st_main_category)\n",
    "# Use `.str.split('.')` to split by dots and extract the second element (index 1)\n",
    "categories_exploded['main_category'] = categories_exploded['category'].str.split('.').str[1]\n",
    "\n",
    "# Count the frequency of each main category\n",
    "main_category_counts = categories_exploded['main_category'].value_counts()\n",
    "\n",
    "# Get the top 20 most common main categories\n",
    "top_20_main_categories = main_category_counts.head(20)\n",
    "\n",
    "# Plot the 20 most common main categories\n",
    "plt.figure(figsize=(12, 6))\n",
    "sns.barplot(x=top_20_main_categories.index, y=top_20_main_categories.values)\n",
    "plt.xticks(rotation=45)\n",
    "plt.title(\"Top 20 Most Common Main Categories\")\n",
    "plt.xlabel(\"Main Category\")\n",
    "plt.ylabel(\"Count\")\n",
    "plt.show()"
   ],
   "outputs": [
    {
     "data": {
      "text/plain": [
       "<Figure size 1200x600 with 1 Axes>"
      ],
      "image/png": "[encoded data removed]"
     },
     "metadata": {},
     "output_type": "display_data"
    }
   ],
   "execution_count": 44
  },
  {
   "metadata": {},
   "cell_type": "markdown",
   "source": "## Most linked to articles "
  },
  {
   "metadata": {
    "ExecuteTime": {
     "end_time": "2024-11-14T15:44:12.556876Z",
     "start_time": "2024-11-14T15:44:12.508563Z"
    }
   },
   "cell_type": "code",
   "source": "article_df2 = article_df.copy()",
   "outputs": [],
   "execution_count": 51
  },
  {
   "metadata": {
    "ExecuteTime": {
     "end_time": "2024-11-14T15:47:52.009409Z",
     "start_time": "2024-11-14T15:47:51.821966Z"
    }
   },
   "cell_type": "code",
   "source": [
    "# Flatten the list of all targets by concatenating all linktarget lists\n",
    "all_targets = article_df['linkTarget'].explode()\n",
    "\n",
    "# Count the occurrences of each target article\n",
    "target_counts = all_targets.value_counts()\n",
    "\n",
    "# Display the top most linked-to articles (e.g., top 10 or top N)\n",
    "N = 10  # Number of top articles to display\n",
    "top_linked_articles = target_counts.head(N)\n",
    "\n",
    "print(f\"Top {N} Most Linked-To Articles:\")\n",
    "print(top_linked_articles)\n",
    "\n",
    "# Bar plot of the top most linked-to articles\n",
    "plt.figure(figsize=(12, 6))\n",
    "sns.barplot(x=top_linked_articles.index, y=top_linked_articles.values)\n",
    "plt.xticks(rotation=45)\n",
    "plt.title(f\"Top {N} Most Linked-To Articles\")\n",
    "plt.xlabel(\"Article\")\n",
    "plt.ylabel(\"Number of Links\")\n",
    "plt.show()"
   ],
   "outputs": [
    {
     "name": "stdout",
     "output_type": "stream",
     "text": [
      "Top 10 Most Linked-To Articles:\n",
      "linkTarget\n",
      "United_States       1551\n",
      "United_Kingdom       972\n",
      "France               959\n",
      "Europe               933\n",
      "England              751\n",
      "World_War_II         751\n",
      "Germany              743\n",
      "India                611\n",
      "English_language     598\n",
      "London               587\n",
      "Name: count, dtype: int64\n"
     ]
    },
    {
     "data": {
      "text/plain": [
       "<Figure size 1200x600 with 1 Axes>"
      ],
      "image/png": "[encoded data removed]"
     },
     "metadata": {},
     "output_type": "display_data"
    }
   ],
   "execution_count": 59
  },
  {
   "metadata": {
    "ExecuteTime": {
     "end_time": "2024-11-14T15:50:41.613154Z",
     "start_time": "2024-11-14T15:50:41.581297Z"
    }
   },
   "cell_type": "code",
   "source": "article_df",
   "outputs": [
    {
     "data": {
      "text/plain": [
       "                    article        article_unrendered_unicode  \\\n",
       "0         Áedán_mac_Gabráin  %C3%81ed%C3%A1n_mac_Gabr%C3%A1in   \n",
       "1                     Åland                        %C3%85land   \n",
       "2             Édouard_Manet                %C3%89douard_Manet   \n",
       "3                      Éire                         %C3%89ire   \n",
       "4     Óengus_I_of_the_Picts        %C3%93engus_I_of_the_Picts   \n",
       "...                     ...                               ...   \n",
       "4599                Zionism                           Zionism   \n",
       "4600              Zirconium                         Zirconium   \n",
       "4601              Zoroaster                         Zoroaster   \n",
       "4602           Zuid-Gelders                      Zuid-Gelders   \n",
       "4603                   Zulu                              Zulu   \n",
       "\n",
       "                                               category  \\\n",
       "0     [subject.History.British_History.British_Histo...   \n",
       "1     [subject.Countries, subject.Geography.European...   \n",
       "2                              [subject.People.Artists]   \n",
       "3     [subject.Countries, subject.Geography.European...   \n",
       "4     [subject.History.British_History.British_Histo...   \n",
       "...                                                 ...   \n",
       "4599  [subject.People.Political_People, subject.Reli...   \n",
       "4600      [subject.Science.Chemistry.Chemical_elements]   \n",
       "4601     [subject.People.Religious_figures_and_leaders]   \n",
       "4602  [subject.Geography.European_Geography, subject...   \n",
       "4603              [subject.Geography.African_Geography]   \n",
       "\n",
       "                 linkSource  \\\n",
       "0         Áedán_mac_Gabráin   \n",
       "1                     Åland   \n",
       "2             Édouard_Manet   \n",
       "3                      Éire   \n",
       "4     Óengus_I_of_the_Picts   \n",
       "...                     ...   \n",
       "4599                Zionism   \n",
       "4600              Zirconium   \n",
       "4601              Zoroaster   \n",
       "4602           Zuid-Gelders   \n",
       "4603                   Zulu   \n",
       "\n",
       "                                             linkTarget  \\\n",
       "0     [Bede, Columba, Dál_Riata, Great_Britain, Irel...   \n",
       "1     [20th_century, Baltic_Sea, Crimean_War, Curren...   \n",
       "2     [Absinthe, Beer, Claude_Monet, Diego_Velázquez...   \n",
       "3     [Canada, English_language, George_VI_of_the_Un...   \n",
       "4     [Dál_Riata, Durham, England, Great_Britain, Ir...   \n",
       "...                                                 ...   \n",
       "4599  [18th_century, 19th_century, Adolf_Hitler, Alb...   \n",
       "4600  [Aluminium, Arabic_language, Australia, Bicycl...   \n",
       "4601  [18th_century, 9th_century, Afghanistan, Age_o...   \n",
       "4602  [Brabantian, Dutch_language, East_Flemish, Hol...   \n",
       "4603  [AK-47, Bantu, Cape_Town, Christianity, Englis...   \n",
       "\n",
       "                                              distances  \\\n",
       "0     {'10th_century': 3.0, '11th_century': 3.0, '12...   \n",
       "1     {'10th_century': 2.0, '11th_century': 2.0, '12...   \n",
       "2     {'10th_century': 3.0, '11th_century': 3.0, '12...   \n",
       "3     {'10th_century': 3.0, '11th_century': 3.0, '12...   \n",
       "4     {'10th_century': 2.0, '11th_century': 2.0, '12...   \n",
       "...                                                 ...   \n",
       "4599  {'10th_century': 2.0, '11th_century': 2.0, '12...   \n",
       "4600  {'10th_century': 3.0, '11th_century': 3.0, '12...   \n",
       "4601  {'10th_century': 2.0, '11th_century': 2.0, '12...   \n",
       "4602  {'10th_century': 3.0, '11th_century': 3.0, '12...   \n",
       "4603  {'10th_century': 2.0, '11th_century': 2.0, '12...   \n",
       "\n",
       "                                             plain_text  \n",
       "0        #copyright\\n\\nÁedán mac Gabráin\\n\\n2007 Sch...  \n",
       "1        #copyright\\n\\nÅland\\n\\n2007 Schools Wikiped...  \n",
       "2        #copyright\\n\\nÉdouard Manet\\n\\n2007 Schools...  \n",
       "3        #copyright\\n\\nÉire\\n\\n2007 Schools Wikipedi...  \n",
       "4        #copyright\\n\\nÓengus I of the Picts\\n\\n2007...  \n",
       "...                                                 ...  \n",
       "4599     #copyright\\n\\nZionism\\n\\n2007 Schools Wikip...  \n",
       "4600     #copyright\\n\\nZirconium\\n\\n2007 Schools Wik...  \n",
       "4601     #copyright\\n\\nZoroaster\\n\\n2007 Schools Wik...  \n",
       "4602     #copyright\\n\\nZuid-Gelders\\n\\n2007 Schools ...  \n",
       "4603     #copyright\\n\\nZulu\\n\\n2007 Schools Wikipedi...  \n",
       "\n",
       "[4604 rows x 7 columns]"
      ],
      "text/html": [
       "<div>\n",
       "<style scoped>\n",
       "    .dataframe tbody tr th:only-of-type {\n",
       "        vertical-align: middle;\n",
       "    }\n",
       "\n",
       "    .dataframe tbody tr th {\n",
       "        vertical-align: top;\n",
       "    }\n",
       "\n",
       "    .dataframe thead th {\n",
       "        text-align: right;\n",
       "    }\n",
       "</style>\n",
       "<table border=\"1\" class=\"dataframe\">\n",
       "  <thead>\n",
       "    <tr style=\"text-align: right;\">\n",
       "      <th></th>\n",
       "      <th>article</th>\n",
       "      <th>article_unrendered_unicode</th>\n",
       "      <th>category</th>\n",
       "      <th>linkSource</th>\n",
       "      <th>linkTarget</th>\n",
       "      <th>distances</th>\n",
       "      <th>plain_text</th>\n",
       "    </tr>\n",
       "  </thead>\n",
       "  <tbody>\n",
       "    <tr>\n",
       "      <th>0</th>\n",
       "      <td>Áedán_mac_Gabráin</td>\n",
       "      <td>%C3%81ed%C3%A1n_mac_Gabr%C3%A1in</td>\n",
       "      <td>[subject.History.British_History.British_Histo...</td>\n",
       "      <td>Áedán_mac_Gabráin</td>\n",
       "      <td>[Bede, Columba, Dál_Riata, Great_Britain, Irel...</td>\n",
       "      <td>{'10th_century': 3.0, '11th_century': 3.0, '12...</td>\n",
       "      <td>#copyright\\n\\nÁedán mac Gabráin\\n\\n2007 Sch...</td>\n",
       "    </tr>\n",
       "    <tr>\n",
       "      <th>1</th>\n",
       "      <td>Åland</td>\n",
       "      <td>%C3%85land</td>\n",
       "      <td>[subject.Countries, subject.Geography.European...</td>\n",
       "      <td>Åland</td>\n",
       "      <td>[20th_century, Baltic_Sea, Crimean_War, Curren...</td>\n",
       "      <td>{'10th_century': 2.0, '11th_century': 2.0, '12...</td>\n",
       "      <td>#copyright\\n\\nÅland\\n\\n2007 Schools Wikiped...</td>\n",
       "    </tr>\n",
       "    <tr>\n",
       "      <th>2</th>\n",
       "      <td>Édouard_Manet</td>\n",
       "      <td>%C3%89douard_Manet</td>\n",
       "      <td>[subject.People.Artists]</td>\n",
       "      <td>Édouard_Manet</td>\n",
       "      <td>[Absinthe, Beer, Claude_Monet, Diego_Velázquez...</td>\n",
       "      <td>{'10th_century': 3.0, '11th_century': 3.0, '12...</td>\n",
       "      <td>#copyright\\n\\nÉdouard Manet\\n\\n2007 Schools...</td>\n",
       "    </tr>\n",
       "    <tr>\n",
       "      <th>3</th>\n",
       "      <td>Éire</td>\n",
       "      <td>%C3%89ire</td>\n",
       "      <td>[subject.Countries, subject.Geography.European...</td>\n",
       "      <td>Éire</td>\n",
       "      <td>[Canada, English_language, George_VI_of_the_Un...</td>\n",
       "      <td>{'10th_century': 3.0, '11th_century': 3.0, '12...</td>\n",
       "      <td>#copyright\\n\\nÉire\\n\\n2007 Schools Wikipedi...</td>\n",
       "    </tr>\n",
       "    <tr>\n",
       "      <th>4</th>\n",
       "      <td>Óengus_I_of_the_Picts</td>\n",
       "      <td>%C3%93engus_I_of_the_Picts</td>\n",
       "      <td>[subject.History.British_History.British_Histo...</td>\n",
       "      <td>Óengus_I_of_the_Picts</td>\n",
       "      <td>[Dál_Riata, Durham, England, Great_Britain, Ir...</td>\n",
       "      <td>{'10th_century': 2.0, '11th_century': 2.0, '12...</td>\n",
       "      <td>#copyright\\n\\nÓengus I of the Picts\\n\\n2007...</td>\n",
       "    </tr>\n",
       "    <tr>\n",
       "      <th>...</th>\n",
       "      <td>...</td>\n",
       "      <td>...</td>\n",
       "      <td>...</td>\n",
       "      <td>...</td>\n",
       "      <td>...</td>\n",
       "      <td>...</td>\n",
       "      <td>...</td>\n",
       "    </tr>\n",
       "    <tr>\n",
       "      <th>4599</th>\n",
       "      <td>Zionism</td>\n",
       "      <td>Zionism</td>\n",
       "      <td>[subject.People.Political_People, subject.Reli...</td>\n",
       "      <td>Zionism</td>\n",
       "      <td>[18th_century, 19th_century, Adolf_Hitler, Alb...</td>\n",
       "      <td>{'10th_century': 2.0, '11th_century': 2.0, '12...</td>\n",
       "      <td>#copyright\\n\\nZionism\\n\\n2007 Schools Wikip...</td>\n",
       "    </tr>\n",
       "    <tr>\n",
       "      <th>4600</th>\n",
       "      <td>Zirconium</td>\n",
       "      <td>Zirconium</td>\n",
       "      <td>[subject.Science.Chemistry.Chemical_elements]</td>\n",
       "      <td>Zirconium</td>\n",
       "      <td>[Aluminium, Arabic_language, Australia, Bicycl...</td>\n",
       "      <td>{'10th_century': 3.0, '11th_century': 3.0, '12...</td>\n",
       "      <td>#copyright\\n\\nZirconium\\n\\n2007 Schools Wik...</td>\n",
       "    </tr>\n",
       "    <tr>\n",
       "      <th>4601</th>\n",
       "      <td>Zoroaster</td>\n",
       "      <td>Zoroaster</td>\n",
       "      <td>[subject.People.Religious_figures_and_leaders]</td>\n",
       "      <td>Zoroaster</td>\n",
       "      <td>[18th_century, 9th_century, Afghanistan, Age_o...</td>\n",
       "      <td>{'10th_century': 2.0, '11th_century': 2.0, '12...</td>\n",
       "      <td>#copyright\\n\\nZoroaster\\n\\n2007 Schools Wik...</td>\n",
       "    </tr>\n",
       "    <tr>\n",
       "      <th>4602</th>\n",
       "      <td>Zuid-Gelders</td>\n",
       "      <td>Zuid-Gelders</td>\n",
       "      <td>[subject.Geography.European_Geography, subject...</td>\n",
       "      <td>Zuid-Gelders</td>\n",
       "      <td>[Brabantian, Dutch_language, East_Flemish, Hol...</td>\n",
       "      <td>{'10th_century': 3.0, '11th_century': 3.0, '12...</td>\n",
       "      <td>#copyright\\n\\nZuid-Gelders\\n\\n2007 Schools ...</td>\n",
       "    </tr>\n",
       "    <tr>\n",
       "      <th>4603</th>\n",
       "      <td>Zulu</td>\n",
       "      <td>Zulu</td>\n",
       "      <td>[subject.Geography.African_Geography]</td>\n",
       "      <td>Zulu</td>\n",
       "      <td>[AK-47, Bantu, Cape_Town, Christianity, Englis...</td>\n",
       "      <td>{'10th_century': 2.0, '11th_century': 2.0, '12...</td>\n",
       "      <td>#copyright\\n\\nZulu\\n\\n2007 Schools Wikipedi...</td>\n",
       "    </tr>\n",
       "  </tbody>\n",
       "</table>\n",
       "<p>4604 rows × 7 columns</p>\n",
       "</div>"
      ]
     },
     "execution_count": 62,
     "metadata": {},
     "output_type": "execute_result"
    }
   ],
   "execution_count": 62
  },
  {
   "metadata": {},
   "cell_type": "markdown",
   "source": "## what are the articles with the most outgoing links ?"
  },
  {
   "metadata": {},
   "cell_type": "code",
   "outputs": [],
   "execution_count": null,
   "source": ""
  }
 ],
 "metadata": {
  "kernelspec": {
   "display_name": "ADAproj",
   "language": "python",
   "name": "python3"
  },
  "language_info": {
   "codemirror_mode": {
    "name": "ipython",
    "version": 3
   },
   "file_extension": ".py",
   "mimetype": "text/x-python",
   "name": "python",
   "nbconvert_exporter": "python",
   "pygments_lexer": "ipython3",
   "version": "3.11.10"
  },
  "orig_nbformat": 4
 },
 "nbformat": 4,
 "nbformat_minor": 2
}
