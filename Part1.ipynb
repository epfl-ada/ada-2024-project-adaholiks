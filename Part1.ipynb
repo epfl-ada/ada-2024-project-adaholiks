{
 "cells": [
  {
   "cell_type": "code",
   "execution_count": 1,
   "metadata": {},
   "outputs": [
    {
     "data": {
      "text/plain": [
       "'\\nTheoretical metric proven \"good articles\" of the wikispeedia dataset.\\n\\nFletcher Collis, nov 2024\\n'"
      ]
     },
     "execution_count": 1,
     "metadata": {},
     "output_type": "execute_result"
    }
   ],
   "source": [
    "\"\"\"\n",
    "Theoretical metric proven \"good articles\" of the wikispeedia dataset.\n",
    "\n",
    "Fletcher Collis, nov 2024\n",
    "\"\"\""
   ]
  },
  {
   "cell_type": "code",
   "execution_count": 2,
   "metadata": {},
   "outputs": [],
   "source": [
    "#%pip install -r requirements.txt"
   ]
  },
  {
   "cell_type": "code",
   "execution_count": 3,
   "metadata": {},
   "outputs": [
    {
     "name": "stdout",
     "output_type": "stream",
     "text": [
      "['/Users/fletchercollis/Desktop/Applied data analysis/Project/ada-2024-project-adaholiks', '/Users/fletchercollis/opt/anaconda3/envs/CS-401_ADA/lib/python311.zip', '/Users/fletchercollis/opt/anaconda3/envs/CS-401_ADA/lib/python3.11', '/Users/fletchercollis/opt/anaconda3/envs/CS-401_ADA/lib/python3.11/lib-dynload', '', '/Users/fletchercollis/opt/anaconda3/envs/CS-401_ADA/lib/python3.11/site-packages', '/Users/fletchercollis/Desktop/Applied data analysis/Project', '/Users/fletchercollis/Desktop/Applied data analysis/Project']\n",
      "---- WARNING: The following articles have a problem: ----\n",
      "Badugi has no links (out-edges) listed.\n",
      "Color_Graphics_Adapter has no links (out-edges) listed.\n",
      "Directdebit has no category listed.\n",
      "Directdebit has no links (out-edges) listed.\n",
      "Donation has no category listed.\n",
      "Donation has no links (out-edges) listed.\n",
      "Douglas_DC-4 has no links (out-edges) listed.\n",
      "Duchenne_muscular_dystrophy has no links (out-edges) listed.\n",
      "Friend_Directdebit has no category listed.\n",
      "Klinefelter%27s_syndrome has no links (out-edges) listed.\n",
      "Local_community has no links (out-edges) listed.\n",
      "Lone_Wolf_%28gamebooks%29 has no links (out-edges) listed.\n",
      "Osteomalacia has no links (out-edges) listed.\n",
      "Pikachu has no category listed.\n",
      "Private_Peaceful has no links (out-edges) listed.\n",
      "Schatzki_ring has no links (out-edges) listed.\n",
      "Sponsorship_Directdebit has no category listed.\n",
      "Suikinkutsu has no links (out-edges) listed.\n",
      "Underground_%28stories%29 has no links (out-edges) listed.\n",
      "Vacutainer has no links (out-edges) listed.\n",
      "Wikipedia_Text_of_the_GNU_Free_Documentation_License has no links (out-edges) listed.\n",
      "Wowpurchase has no category listed.\n",
      "Wowpurchase has no links (out-edges) listed.\n"
     ]
    }
   ],
   "source": [
    "import pandas as pd\n",
    "from src.load_data import *\n",
    "from src.graph_data import *"
   ]
  },
  {
   "cell_type": "markdown",
   "metadata": {},
   "source": [
    "### Checking if there are any"
   ]
  },
  {
   "cell_type": "code",
   "execution_count": 5,
   "metadata": {},
   "outputs": [
    {
     "name": "stdout",
     "output_type": "stream",
     "text": [
      "Total pairs of nodes: 21192212\n",
      "Number of unconnected pairs: 2603977\n"
     ]
    }
   ],
   "source": [
    "from collections import defaultdict\n",
    "\n",
    "total_pairs = 0\n",
    "unconnected_pairs = 0\n",
    "connected_pairs = [] \n",
    "\n",
    "for source in G.nodes():\n",
    "\n",
    "    for target in G.nodes():\n",
    "\n",
    "        if source != target:\n",
    "\n",
    "            total_pairs += 1\n",
    "\n",
    "            if nx.has_path(G, source, target):\n",
    "\n",
    "                connected_pairs.append((source, target))\n",
    "\n",
    "            else:\n",
    "                \n",
    "                unconnected_pairs += 1\n",
    "\n",
    "print(f\"Total pairs of nodes: {total_pairs}\")\n",
    "print(f\"Number of unconnected pairs: {unconnected_pairs}\")\n"
   ]
  },
  {
   "cell_type": "code",
   "execution_count": null,
   "metadata": {},
   "outputs": [],
   "source": []
  },
  {
   "cell_type": "code",
   "execution_count": null,
   "metadata": {},
   "outputs": [],
   "source": []
  },
  {
   "cell_type": "code",
   "execution_count": null,
   "metadata": {},
   "outputs": [],
   "source": []
  },
  {
   "cell_type": "markdown",
   "metadata": {},
   "source": [
    "### List of theoretical \"good nodes\""
   ]
  },
  {
   "cell_type": "markdown",
   "metadata": {},
   "source": [
    "Here, for every node, we count the times it is part of a shortest path. By doing this, we obtain a list of nodes that are often good choices when playing the wikispeedia game as they are more often than not part of a shortest path."
   ]
  },
  {
   "cell_type": "code",
   "execution_count": 6,
   "metadata": {},
   "outputs": [],
   "source": [
    "node_counts = defaultdict(int)\n",
    "\n",
    "for source, target in connected_pairs:\n",
    "\n",
    "    all_paths = list(nx.all_shortest_paths(G, source=source, target=target))\n",
    "\n",
    "    for path in all_paths:\n",
    "\n",
    "        for node in path:\n",
    "\n",
    "            if node != source and node != target:\n",
    "\n",
    "                node_counts[node] += 1\n",
    "\n",
    "\n",
    "node_counts_df = pd.DataFrame(node_counts.items(), columns=['Node', 'ShortestPathCount'])\n",
    "\n",
    "node_counts_df\n"
   ]
  },
  {
   "cell_type": "code",
   "execution_count": null,
   "metadata": {},
   "outputs": [],
   "source": []
  }
 ],
 "metadata": {
  "kernelspec": {
   "display_name": "ADA",
   "language": "python",
   "name": "python3"
  },
  "language_info": {
   "codemirror_mode": {
    "name": "ipython",
    "version": 3
   },
   "file_extension": ".py",
   "mimetype": "text/x-python",
   "name": "python",
   "nbconvert_exporter": "python",
   "pygments_lexer": "ipython3",
   "version": "3.11.10"
  }
 },
 "nbformat": 4,
 "nbformat_minor": 2
}
