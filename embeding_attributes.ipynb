{
 "cells": [
  {
   "cell_type": "code",
   "execution_count": 2,
   "metadata": {},
   "outputs": [],
   "source": [
    "import pandas as pd\n",
    "import requests\n",
    "import pyarrow.feather as feather"
   ]
  },
  {
   "cell_type": "code",
   "execution_count": 3,
   "metadata": {},
   "outputs": [],
   "source": [
    "articles_df = pd.read_feather('Data/dataframes/article_dataframe.feather')"
   ]
  },
  {
   "cell_type": "code",
   "execution_count": 4,
   "metadata": {},
   "outputs": [],
   "source": [
    "article_names = articles_df['article']\n",
    "\n",
    "# Here fetch a token from hugging face website\n",
    "# https://huggingface.co/blog/getting-started-with-embeddings\n",
    "model_id = \"sentence-transformers/all-MiniLM-L6-v2\"\n",
    "hf_token = \"insert token here\"\n",
    "\n",
    "api_url = f\"https://api-inference.huggingface.co/pipeline/feature-extraction/{model_id}\"\n",
    "headers = {\"Authorization\": f\"Bearer {hf_token}\"}"
   ]
  },
  {
   "cell_type": "code",
   "execution_count": 7,
   "metadata": {},
   "outputs": [],
   "source": [
    "def query(texts):\n",
    "    response = requests.post(api_url, headers=headers, json={\"inputs\": texts, \"options\":{\"wait_for_model\":True}})\n",
    "    return response.json()\n",
    "\n",
    "article_names_list = article_names.tolist()\n",
    "\n",
    "#replace _ with space in article names\n",
    "article_names_list = [name.replace(\"_\", \" \") for name in article_names_list]\n",
    "\n",
    "output = query(article_names_list)\n",
    "\n",
    "articles_df['embeddings'] = output\n",
    "\n",
    "articles_df.to_feather('Data/dataframes/article_dataframe_with_embeddings.feather')"
   ]
  },
  {
   "cell_type": "code",
   "execution_count": 3,
   "metadata": {},
   "outputs": [
    {
     "ename": "Exception",
     "evalue": "Request failed with status code 400: {\"error\":\"Authorization header is correct, but the token seems invalid\"}",
     "output_type": "error",
     "traceback": [
      "\u001b[0;31m---------------------------------------------------------------------------\u001b[0m",
      "\u001b[0;31mException\u001b[0m                                 Traceback (most recent call last)",
      "Cell \u001b[0;32mIn[3], line 31\u001b[0m\n\u001b[1;32m     29\u001b[0m \u001b[38;5;28;01mfor\u001b[39;00m i \u001b[38;5;129;01min\u001b[39;00m \u001b[38;5;28mrange\u001b[39m(\u001b[38;5;241m0\u001b[39m, \u001b[38;5;28mlen\u001b[39m(article_names_list), batch_size):\n\u001b[1;32m     30\u001b[0m     batch \u001b[38;5;241m=\u001b[39m article_names_list[i:i \u001b[38;5;241m+\u001b[39m batch_size]\n\u001b[0;32m---> 31\u001b[0m     output \u001b[38;5;241m=\u001b[39m \u001b[43mquery\u001b[49m\u001b[43m(\u001b[49m\u001b[43mbatch\u001b[49m\u001b[43m)\u001b[49m  \u001b[38;5;66;03m# Query embeddings for the batch\u001b[39;00m\n\u001b[1;32m     32\u001b[0m     embeddings\u001b[38;5;241m.\u001b[39mextend(output)  \u001b[38;5;66;03m# Append the embeddings to the list\u001b[39;00m\n\u001b[1;32m     34\u001b[0m \u001b[38;5;66;03m# Add embeddings to the DataFrame\u001b[39;00m\n",
      "Cell \u001b[0;32mIn[3], line 17\u001b[0m, in \u001b[0;36mquery\u001b[0;34m(texts)\u001b[0m\n\u001b[1;32m     15\u001b[0m \u001b[38;5;66;03m# Check for errors in response\u001b[39;00m\n\u001b[1;32m     16\u001b[0m \u001b[38;5;28;01mif\u001b[39;00m response\u001b[38;5;241m.\u001b[39mstatus_code \u001b[38;5;241m!=\u001b[39m \u001b[38;5;241m200\u001b[39m:\n\u001b[0;32m---> 17\u001b[0m     \u001b[38;5;28;01mraise\u001b[39;00m \u001b[38;5;167;01mException\u001b[39;00m(\u001b[38;5;124mf\u001b[39m\u001b[38;5;124m\"\u001b[39m\u001b[38;5;124mRequest failed with status code \u001b[39m\u001b[38;5;132;01m{\u001b[39;00mresponse\u001b[38;5;241m.\u001b[39mstatus_code\u001b[38;5;132;01m}\u001b[39;00m\u001b[38;5;124m: \u001b[39m\u001b[38;5;132;01m{\u001b[39;00mresponse\u001b[38;5;241m.\u001b[39mtext\u001b[38;5;132;01m}\u001b[39;00m\u001b[38;5;124m\"\u001b[39m)\n\u001b[1;32m     19\u001b[0m \u001b[38;5;28;01mreturn\u001b[39;00m response\u001b[38;5;241m.\u001b[39mjson()\n",
      "\u001b[0;31mException\u001b[0m: Request failed with status code 400: {\"error\":\"Authorization header is correct, but the token seems invalid\"}"
     ]
    }
   ],
   "source": [
    "# Load data\n",
    "articles_df = pd.read_feather('Data/dataframes/article_dataframe.feather')\n",
    "article_names = articles_df['article']\n",
    "\n",
    "# Define Hugging Face API parameters\n",
    "model_id = \"sentence-transformers/all-MiniLM-L6-v2\"\n",
    "hf_token = \"insert token here\"\n",
    "api_url = f\"https://api-inference.huggingface.co/pipeline/feature-extraction/{model_id}\"\n",
    "headers = {\"Authorization\": f\"Bearer {hf_token}\"}\n",
    "\n",
    "def query(texts):\n",
    "    # Send a request to Hugging Face API\n",
    "    response = requests.post(api_url, headers=headers, json={\"inputs\": texts, \"options\": {\"wait_for_model\": True}})\n",
    "    \n",
    "    # Check for errors in response\n",
    "    if response.status_code != 200:\n",
    "        raise Exception(f\"Request failed with status code {response.status_code}: {response.text}\")\n",
    "    \n",
    "    return response.json()\n",
    "\n",
    "# Prepare article names\n",
    "article_names_list = article_names.tolist()\n",
    "article_names_list = [name.replace(\"_\", \" \") for name in article_names_list]\n",
    "\n",
    "# Batch processing to avoid overloading the API\n",
    "batch_size = 32\n",
    "embeddings = []\n",
    "\n",
    "for i in range(0, len(article_names_list), batch_size):\n",
    "    batch = article_names_list[i:i + batch_size]\n",
    "    output = query(batch)  # Query embeddings for the batch\n",
    "    embeddings.extend(output)  # Append the embeddings to the list\n",
    "\n",
    "# Add embeddings to the DataFrame\n",
    "articles_df['embeddings'] = embeddings\n",
    "\n",
    "# Save the updated DataFrame\n",
    "articles_df.to_feather('Data/dataframes/article_dataframe_with_embeddings.feather')\n"
   ]
  },
  {
   "cell_type": "code",
   "execution_count": null,
   "metadata": {},
   "outputs": [],
   "source": [
    "articles_df"
   ]
  }
 ],
 "metadata": {
  "kernelspec": {
   "display_name": "ADAproj",
   "language": "python",
   "name": "python3"
  },
  "language_info": {
   "codemirror_mode": {
    "name": "ipython",
    "version": 3
   },
   "file_extension": ".py",
   "mimetype": "text/x-python",
   "name": "python",
   "nbconvert_exporter": "python",
   "pygments_lexer": "ipython3",
   "version": "3.11.10"
  }
 },
 "nbformat": 4,
 "nbformat_minor": 2
}
