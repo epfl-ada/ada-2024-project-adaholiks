{
 "cells": [
  {
   "cell_type": "code",
   "metadata": {
    "ExecuteTime": {
     "end_time": "2024-11-08T14:42:34.886025Z",
     "start_time": "2024-11-08T14:42:34.878219Z"
    }
   },
   "source": [
    "\"\"\"\n",
    "Theoretical metric proven \"good articles\" of the wikispeedia dataset.\n",
    "\n",
    "Osc, nov 2024\n",
    "\"\"\""
   ],
   "outputs": [
    {
     "data": {
      "text/plain": [
       "'\\nTheoretical metric proven \"good articles\" of the wikispeedia dataset.\\n\\nOsc, nov 2024\\n'"
      ]
     },
     "execution_count": 12,
     "metadata": {},
     "output_type": "execute_result"
    }
   ],
   "execution_count": 12
  },
  {
   "cell_type": "code",
   "metadata": {
    "ExecuteTime": {
     "end_time": "2024-11-08T14:42:35.737008Z",
     "start_time": "2024-11-08T14:42:35.734679Z"
    }
   },
   "source": "#pip install -r requirements.txt",
   "outputs": [],
   "execution_count": 13
  },
  {
   "cell_type": "code",
   "metadata": {
    "ExecuteTime": {
     "end_time": "2024-11-08T17:32:28.479681Z",
     "start_time": "2024-11-08T17:32:12.958353Z"
    }
   },
   "source": [
    "from src.load_data import *\n",
    "from src.graph_data import *\n",
    "import pandas as pd"
   ],
   "outputs": [
    {
     "name": "stdout",
     "output_type": "stream",
     "text": [
      "['/Users/oscargoudet/Desktop/ada-2024-project-adaholiks', '/opt/anaconda3/envs/ada_project/lib/python312.zip', '/opt/anaconda3/envs/ada_project/lib/python3.12', '/opt/anaconda3/envs/ada_project/lib/python3.12/lib-dynload', '', '/opt/anaconda3/envs/ada_project/lib/python3.12/site-packages', '/Users/oscargoudet/Desktop']\n",
      "---- WARNING: The following articles have a problem: ----\n",
      "Badugi has no links (out-edges) listed.\n",
      "Color_Graphics_Adapter has no links (out-edges) listed.\n",
      "Directdebit has no category listed.\n",
      "Directdebit has no links (out-edges) listed.\n",
      "Donation has no category listed.\n",
      "Donation has no links (out-edges) listed.\n",
      "Douglas_DC-4 has no links (out-edges) listed.\n",
      "Duchenne_muscular_dystrophy has no links (out-edges) listed.\n",
      "Friend_Directdebit has no category listed.\n",
      "Klinefelter%27s_syndrome has no links (out-edges) listed.\n",
      "Local_community has no links (out-edges) listed.\n",
      "Lone_Wolf_%28gamebooks%29 has no links (out-edges) listed.\n",
      "Osteomalacia has no links (out-edges) listed.\n",
      "Pikachu has no category listed.\n",
      "Private_Peaceful has no links (out-edges) listed.\n",
      "Schatzki_ring has no links (out-edges) listed.\n",
      "Sponsorship_Directdebit has no category listed.\n",
      "Suikinkutsu has no links (out-edges) listed.\n",
      "Underground_%28stories%29 has no links (out-edges) listed.\n",
      "Vacutainer has no links (out-edges) listed.\n",
      "Wikipedia_Text_of_the_GNU_Free_Documentation_License has no links (out-edges) listed.\n",
      "Wowpurchase has no category listed.\n",
      "Wowpurchase has no links (out-edges) listed.\n"
     ]
    }
   ],
   "execution_count": 1
  },
  {
   "cell_type": "markdown",
   "metadata": {},
   "source": [
    "### Checking if there are any"
   ]
  },
  {
   "cell_type": "code",
   "metadata": {
    "ExecuteTime": {
     "end_time": "2024-11-08T17:40:15.658094Z",
     "start_time": "2024-11-08T17:40:11.138086Z"
    }
   },
   "source": [
    "from collections import defaultdict\n",
    "\n",
    "total_pairs = 0\n",
    "unconnected_pairs = 0\n",
    "connected_pairs = [] \n",
    "\n",
    "for source in G.nodes():\n",
    "\n",
    "    for target in G.nodes():\n",
    "\n",
    "        if source != target:\n",
    "\n",
    "            total_pairs += 1\n",
    "\n",
    "            if nx.has_path(G, source, target):\n",
    "\n",
    "                connected_pairs.append((source, target))\n",
    "\n",
    "            else:\n",
    "                \n",
    "                unconnected_pairs += 1\n",
    "\n",
    "print(f\"Total pairs of nodes: {total_pairs}\")\n",
    "print(f\"Number of unconnected pairs: {unconnected_pairs}\")\n"
   ],
   "outputs": [
    {
     "ename": "KeyboardInterrupt",
     "evalue": "",
     "output_type": "error",
     "traceback": [
      "\u001B[0;31m---------------------------------------------------------------------------\u001B[0m",
      "\u001B[0;31mKeyboardInterrupt\u001B[0m                         Traceback (most recent call last)",
      "Cell \u001B[0;32mIn[2], line 15\u001B[0m\n\u001B[1;32m     11\u001B[0m \u001B[38;5;28;01mif\u001B[39;00m source \u001B[38;5;241m!=\u001B[39m target:\n\u001B[1;32m     13\u001B[0m     total_pairs \u001B[38;5;241m+\u001B[39m\u001B[38;5;241m=\u001B[39m \u001B[38;5;241m1\u001B[39m\n\u001B[0;32m---> 15\u001B[0m     \u001B[38;5;28;01mif\u001B[39;00m \u001B[43mnx\u001B[49m\u001B[38;5;241;43m.\u001B[39;49m\u001B[43mhas_path\u001B[49m\u001B[43m(\u001B[49m\u001B[43mG\u001B[49m\u001B[43m,\u001B[49m\u001B[43m \u001B[49m\u001B[43msource\u001B[49m\u001B[43m,\u001B[49m\u001B[43m \u001B[49m\u001B[43mtarget\u001B[49m\u001B[43m)\u001B[49m:\n\u001B[1;32m     17\u001B[0m         connected_pairs\u001B[38;5;241m.\u001B[39mappend((source, target))\n\u001B[1;32m     19\u001B[0m     \u001B[38;5;28;01melse\u001B[39;00m:\n",
      "File \u001B[0;32m<class 'networkx.utils.decorators.argmap'> compilation 16:3\u001B[0m, in \u001B[0;36margmap_has_path_13\u001B[0;34m(G, source, target, backend, **backend_kwargs)\u001B[0m\n\u001B[1;32m      1\u001B[0m \u001B[38;5;28;01mimport\u001B[39;00m \u001B[38;5;21;01mbz2\u001B[39;00m\n\u001B[1;32m      2\u001B[0m \u001B[38;5;28;01mimport\u001B[39;00m \u001B[38;5;21;01mcollections\u001B[39;00m\n\u001B[0;32m----> 3\u001B[0m \u001B[38;5;28;01mimport\u001B[39;00m \u001B[38;5;21;01mgzip\u001B[39;00m\n\u001B[1;32m      4\u001B[0m \u001B[38;5;28;01mimport\u001B[39;00m \u001B[38;5;21;01minspect\u001B[39;00m\n\u001B[1;32m      5\u001B[0m \u001B[38;5;28;01mimport\u001B[39;00m \u001B[38;5;21;01mitertools\u001B[39;00m\n",
      "File \u001B[0;32m/opt/anaconda3/envs/ada_project/lib/python3.12/site-packages/networkx/utils/backends.py:633\u001B[0m, in \u001B[0;36m_dispatchable.__call__\u001B[0;34m(self, backend, *args, **kwargs)\u001B[0m\n\u001B[1;32m    628\u001B[0m \u001B[38;5;250m\u001B[39m\u001B[38;5;124;03m\"\"\"Returns the result of the original function, or the backend function if\u001B[39;00m\n\u001B[1;32m    629\u001B[0m \u001B[38;5;124;03mthe backend is specified and that backend implements `func`.\"\"\"\u001B[39;00m\n\u001B[1;32m    631\u001B[0m \u001B[38;5;28;01mif\u001B[39;00m \u001B[38;5;129;01mnot\u001B[39;00m backends:\n\u001B[1;32m    632\u001B[0m     \u001B[38;5;66;03m# Fast path if no backends are installed\u001B[39;00m\n\u001B[0;32m--> 633\u001B[0m     \u001B[38;5;28;01mreturn\u001B[39;00m \u001B[38;5;28;43mself\u001B[39;49m\u001B[38;5;241;43m.\u001B[39;49m\u001B[43morig_func\u001B[49m\u001B[43m(\u001B[49m\u001B[38;5;241;43m*\u001B[39;49m\u001B[43margs\u001B[49m\u001B[43m,\u001B[49m\u001B[43m \u001B[49m\u001B[38;5;241;43m*\u001B[39;49m\u001B[38;5;241;43m*\u001B[39;49m\u001B[43mkwargs\u001B[49m\u001B[43m)\u001B[49m\n\u001B[1;32m    635\u001B[0m \u001B[38;5;66;03m# Use `backend_name` in this function instead of `backend`\u001B[39;00m\n\u001B[1;32m    636\u001B[0m backend_name \u001B[38;5;241m=\u001B[39m backend\n",
      "File \u001B[0;32m/opt/anaconda3/envs/ada_project/lib/python3.12/site-packages/networkx/algorithms/shortest_paths/generic.py:37\u001B[0m, in \u001B[0;36mhas_path\u001B[0;34m(G, source, target)\u001B[0m\n\u001B[1;32m     24\u001B[0m \u001B[38;5;250m\u001B[39m\u001B[38;5;124;03m\"\"\"Returns *True* if *G* has a path from *source* to *target*.\u001B[39;00m\n\u001B[1;32m     25\u001B[0m \n\u001B[1;32m     26\u001B[0m \u001B[38;5;124;03mParameters\u001B[39;00m\n\u001B[0;32m   (...)\u001B[0m\n\u001B[1;32m     34\u001B[0m \u001B[38;5;124;03m   Ending node for path\u001B[39;00m\n\u001B[1;32m     35\u001B[0m \u001B[38;5;124;03m\"\"\"\u001B[39;00m\n\u001B[1;32m     36\u001B[0m \u001B[38;5;28;01mtry\u001B[39;00m:\n\u001B[0;32m---> 37\u001B[0m     \u001B[43mnx\u001B[49m\u001B[38;5;241;43m.\u001B[39;49m\u001B[43mshortest_path\u001B[49m\u001B[43m(\u001B[49m\u001B[43mG\u001B[49m\u001B[43m,\u001B[49m\u001B[43m \u001B[49m\u001B[43msource\u001B[49m\u001B[43m,\u001B[49m\u001B[43m \u001B[49m\u001B[43mtarget\u001B[49m\u001B[43m)\u001B[49m\n\u001B[1;32m     38\u001B[0m \u001B[38;5;28;01mexcept\u001B[39;00m nx\u001B[38;5;241m.\u001B[39mNetworkXNoPath:\n\u001B[1;32m     39\u001B[0m     \u001B[38;5;28;01mreturn\u001B[39;00m \u001B[38;5;28;01mFalse\u001B[39;00m\n",
      "File \u001B[0;32m<class 'networkx.utils.decorators.argmap'> compilation 20:3\u001B[0m, in \u001B[0;36margmap_shortest_path_17\u001B[0;34m(G, source, target, weight, method, backend, **backend_kwargs)\u001B[0m\n\u001B[1;32m      1\u001B[0m \u001B[38;5;28;01mimport\u001B[39;00m \u001B[38;5;21;01mbz2\u001B[39;00m\n\u001B[1;32m      2\u001B[0m \u001B[38;5;28;01mimport\u001B[39;00m \u001B[38;5;21;01mcollections\u001B[39;00m\n\u001B[0;32m----> 3\u001B[0m \u001B[38;5;28;01mimport\u001B[39;00m \u001B[38;5;21;01mgzip\u001B[39;00m\n\u001B[1;32m      4\u001B[0m \u001B[38;5;28;01mimport\u001B[39;00m \u001B[38;5;21;01minspect\u001B[39;00m\n\u001B[1;32m      5\u001B[0m \u001B[38;5;28;01mimport\u001B[39;00m \u001B[38;5;21;01mitertools\u001B[39;00m\n",
      "File \u001B[0;32m/opt/anaconda3/envs/ada_project/lib/python3.12/site-packages/networkx/utils/backends.py:633\u001B[0m, in \u001B[0;36m_dispatchable.__call__\u001B[0;34m(self, backend, *args, **kwargs)\u001B[0m\n\u001B[1;32m    628\u001B[0m \u001B[38;5;250m\u001B[39m\u001B[38;5;124;03m\"\"\"Returns the result of the original function, or the backend function if\u001B[39;00m\n\u001B[1;32m    629\u001B[0m \u001B[38;5;124;03mthe backend is specified and that backend implements `func`.\"\"\"\u001B[39;00m\n\u001B[1;32m    631\u001B[0m \u001B[38;5;28;01mif\u001B[39;00m \u001B[38;5;129;01mnot\u001B[39;00m backends:\n\u001B[1;32m    632\u001B[0m     \u001B[38;5;66;03m# Fast path if no backends are installed\u001B[39;00m\n\u001B[0;32m--> 633\u001B[0m     \u001B[38;5;28;01mreturn\u001B[39;00m \u001B[38;5;28;43mself\u001B[39;49m\u001B[38;5;241;43m.\u001B[39;49m\u001B[43morig_func\u001B[49m\u001B[43m(\u001B[49m\u001B[38;5;241;43m*\u001B[39;49m\u001B[43margs\u001B[49m\u001B[43m,\u001B[49m\u001B[43m \u001B[49m\u001B[38;5;241;43m*\u001B[39;49m\u001B[38;5;241;43m*\u001B[39;49m\u001B[43mkwargs\u001B[49m\u001B[43m)\u001B[49m\n\u001B[1;32m    635\u001B[0m \u001B[38;5;66;03m# Use `backend_name` in this function instead of `backend`\u001B[39;00m\n\u001B[1;32m    636\u001B[0m backend_name \u001B[38;5;241m=\u001B[39m backend\n",
      "File \u001B[0;32m/opt/anaconda3/envs/ada_project/lib/python3.12/site-packages/networkx/algorithms/shortest_paths/generic.py:182\u001B[0m, in \u001B[0;36mshortest_path\u001B[0;34m(G, source, target, weight, method)\u001B[0m\n\u001B[1;32m    179\u001B[0m \u001B[38;5;28;01melse\u001B[39;00m:\n\u001B[1;32m    180\u001B[0m     \u001B[38;5;66;03m# Find shortest source-target path.\u001B[39;00m\n\u001B[1;32m    181\u001B[0m     \u001B[38;5;28;01mif\u001B[39;00m method \u001B[38;5;241m==\u001B[39m \u001B[38;5;124m\"\u001B[39m\u001B[38;5;124munweighted\u001B[39m\u001B[38;5;124m\"\u001B[39m:\n\u001B[0;32m--> 182\u001B[0m         paths \u001B[38;5;241m=\u001B[39m \u001B[43mnx\u001B[49m\u001B[38;5;241;43m.\u001B[39;49m\u001B[43mbidirectional_shortest_path\u001B[49m\u001B[43m(\u001B[49m\u001B[43mG\u001B[49m\u001B[43m,\u001B[49m\u001B[43m \u001B[49m\u001B[43msource\u001B[49m\u001B[43m,\u001B[49m\u001B[43m \u001B[49m\u001B[43mtarget\u001B[49m\u001B[43m)\u001B[49m\n\u001B[1;32m    183\u001B[0m     \u001B[38;5;28;01melif\u001B[39;00m method \u001B[38;5;241m==\u001B[39m \u001B[38;5;124m\"\u001B[39m\u001B[38;5;124mdijkstra\u001B[39m\u001B[38;5;124m\"\u001B[39m:\n\u001B[1;32m    184\u001B[0m         _, paths \u001B[38;5;241m=\u001B[39m nx\u001B[38;5;241m.\u001B[39mbidirectional_dijkstra(G, source, target, weight)\n",
      "File \u001B[0;32m<class 'networkx.utils.decorators.argmap'> compilation 24:3\u001B[0m, in \u001B[0;36margmap_bidirectional_shortest_path_21\u001B[0;34m(G, source, target, backend, **backend_kwargs)\u001B[0m\n\u001B[1;32m      1\u001B[0m \u001B[38;5;28;01mimport\u001B[39;00m \u001B[38;5;21;01mbz2\u001B[39;00m\n\u001B[1;32m      2\u001B[0m \u001B[38;5;28;01mimport\u001B[39;00m \u001B[38;5;21;01mcollections\u001B[39;00m\n\u001B[0;32m----> 3\u001B[0m \u001B[38;5;28;01mimport\u001B[39;00m \u001B[38;5;21;01mgzip\u001B[39;00m\n\u001B[1;32m      4\u001B[0m \u001B[38;5;28;01mimport\u001B[39;00m \u001B[38;5;21;01minspect\u001B[39;00m\n\u001B[1;32m      5\u001B[0m \u001B[38;5;28;01mimport\u001B[39;00m \u001B[38;5;21;01mitertools\u001B[39;00m\n",
      "File \u001B[0;32m/opt/anaconda3/envs/ada_project/lib/python3.12/site-packages/networkx/utils/backends.py:633\u001B[0m, in \u001B[0;36m_dispatchable.__call__\u001B[0;34m(self, backend, *args, **kwargs)\u001B[0m\n\u001B[1;32m    628\u001B[0m \u001B[38;5;250m\u001B[39m\u001B[38;5;124;03m\"\"\"Returns the result of the original function, or the backend function if\u001B[39;00m\n\u001B[1;32m    629\u001B[0m \u001B[38;5;124;03mthe backend is specified and that backend implements `func`.\"\"\"\u001B[39;00m\n\u001B[1;32m    631\u001B[0m \u001B[38;5;28;01mif\u001B[39;00m \u001B[38;5;129;01mnot\u001B[39;00m backends:\n\u001B[1;32m    632\u001B[0m     \u001B[38;5;66;03m# Fast path if no backends are installed\u001B[39;00m\n\u001B[0;32m--> 633\u001B[0m     \u001B[38;5;28;01mreturn\u001B[39;00m \u001B[38;5;28;43mself\u001B[39;49m\u001B[38;5;241;43m.\u001B[39;49m\u001B[43morig_func\u001B[49m\u001B[43m(\u001B[49m\u001B[38;5;241;43m*\u001B[39;49m\u001B[43margs\u001B[49m\u001B[43m,\u001B[49m\u001B[43m \u001B[49m\u001B[38;5;241;43m*\u001B[39;49m\u001B[38;5;241;43m*\u001B[39;49m\u001B[43mkwargs\u001B[49m\u001B[43m)\u001B[49m\n\u001B[1;32m    635\u001B[0m \u001B[38;5;66;03m# Use `backend_name` in this function instead of `backend`\u001B[39;00m\n\u001B[1;32m    636\u001B[0m backend_name \u001B[38;5;241m=\u001B[39m backend\n",
      "File \u001B[0;32m/opt/anaconda3/envs/ada_project/lib/python3.12/site-packages/networkx/algorithms/shortest_paths/unweighted.py:247\u001B[0m, in \u001B[0;36mbidirectional_shortest_path\u001B[0;34m(G, source, target)\u001B[0m\n\u001B[1;32m    244\u001B[0m     \u001B[38;5;28;01mraise\u001B[39;00m nx\u001B[38;5;241m.\u001B[39mNodeNotFound(msg)\n\u001B[1;32m    246\u001B[0m \u001B[38;5;66;03m# call helper to do the real work\u001B[39;00m\n\u001B[0;32m--> 247\u001B[0m results \u001B[38;5;241m=\u001B[39m \u001B[43m_bidirectional_pred_succ\u001B[49m\u001B[43m(\u001B[49m\u001B[43mG\u001B[49m\u001B[43m,\u001B[49m\u001B[43m \u001B[49m\u001B[43msource\u001B[49m\u001B[43m,\u001B[49m\u001B[43m \u001B[49m\u001B[43mtarget\u001B[49m\u001B[43m)\u001B[49m\n\u001B[1;32m    248\u001B[0m pred, succ, w \u001B[38;5;241m=\u001B[39m results\n\u001B[1;32m    250\u001B[0m \u001B[38;5;66;03m# build path from pred+w+succ\u001B[39;00m\n",
      "File \u001B[0;32m/opt/anaconda3/envs/ada_project/lib/python3.12/site-packages/networkx/algorithms/shortest_paths/unweighted.py:312\u001B[0m, in \u001B[0;36m_bidirectional_pred_succ\u001B[0;34m(G, source, target)\u001B[0m\n\u001B[1;32m    310\u001B[0m                     succ[w] \u001B[38;5;241m=\u001B[39m v\n\u001B[1;32m    311\u001B[0m                     reverse_fringe\u001B[38;5;241m.\u001B[39mappend(w)\n\u001B[0;32m--> 312\u001B[0m                 \u001B[38;5;28;01mif\u001B[39;00m w \u001B[38;5;129;01min\u001B[39;00m pred:  \u001B[38;5;66;03m# found path\u001B[39;00m\n\u001B[1;32m    313\u001B[0m                     \u001B[38;5;28;01mreturn\u001B[39;00m pred, succ, w\n\u001B[1;32m    315\u001B[0m \u001B[38;5;28;01mraise\u001B[39;00m nx\u001B[38;5;241m.\u001B[39mNetworkXNoPath(\u001B[38;5;124mf\u001B[39m\u001B[38;5;124m\"\u001B[39m\u001B[38;5;124mNo path between \u001B[39m\u001B[38;5;132;01m{\u001B[39;00msource\u001B[38;5;132;01m}\u001B[39;00m\u001B[38;5;124m and \u001B[39m\u001B[38;5;132;01m{\u001B[39;00mtarget\u001B[38;5;132;01m}\u001B[39;00m\u001B[38;5;124m.\u001B[39m\u001B[38;5;124m\"\u001B[39m)\n",
      "\u001B[0;31mKeyboardInterrupt\u001B[0m: "
     ]
    }
   ],
   "execution_count": 2
  },
  {
   "cell_type": "code",
   "execution_count": null,
   "metadata": {},
   "outputs": [],
   "source": []
  },
  {
   "cell_type": "code",
   "execution_count": null,
   "metadata": {},
   "outputs": [],
   "source": []
  },
  {
   "cell_type": "code",
   "execution_count": null,
   "metadata": {},
   "outputs": [],
   "source": []
  },
  {
   "cell_type": "markdown",
   "metadata": {},
   "source": [
    "### List of theoretical \"good nodes\""
   ]
  },
  {
   "cell_type": "markdown",
   "metadata": {},
   "source": [
    "Here, for every node, we count the times it is part of a shortest path. By doing this, we obtain a list of nodes that are often good choices when playing the wikispeedia game as they are more often than not part of a shortest path."
   ]
  },
  {
   "cell_type": "code",
   "execution_count": 6,
   "metadata": {},
   "outputs": [],
   "source": [
    "node_counts = defaultdict(int)\n",
    "\n",
    "for source, target in connected_pairs:\n",
    "\n",
    "    all_paths = list(nx.all_shortest_paths(G, source=source, target=target))\n",
    "\n",
    "    for path in all_paths:\n",
    "\n",
    "        for node in path:\n",
    "\n",
    "            if node != source and node != target:\n",
    "\n",
    "                node_counts[node] += 1\n",
    "\n",
    "\n",
    "node_counts_df = pd.DataFrame(node_counts.items(), columns=['Node', 'ShortestPathCount'])\n",
    "\n",
    "node_counts_df\n"
   ]
  },
  {
   "cell_type": "code",
   "execution_count": null,
   "metadata": {},
   "outputs": [],
   "source": []
  }
 ],
 "metadata": {
  "kernelspec": {
   "display_name": "Python 3 (ipykernel)",
   "language": "python",
   "name": "python3"
  },
  "language_info": {
   "codemirror_mode": {
    "name": "ipython",
    "version": 3
   },
   "file_extension": ".py",
   "mimetype": "text/x-python",
   "name": "python",
   "nbconvert_exporter": "python",
   "pygments_lexer": "ipython3",
   "version": "3.12.2"
  }
 },
 "nbformat": 4,
 "nbformat_minor": 4
}
